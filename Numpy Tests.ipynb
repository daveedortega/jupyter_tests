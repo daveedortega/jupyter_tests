{
 "cells": [
  {
   "cell_type": "markdown",
   "id": "154d46d8",
   "metadata": {},
   "source": [
    "# Testing Libraries: Numpy\n",
    "\n",
    "In our python journey towards data science we gotta learn how to use shit to plot stuff and do numbers n shit so here we go. \n",
    "\n",
    "* NumPy: Numerical Python: [Beginner's Guide](https://numpy.org/doc/stable/user/absolute_beginners.html)\n",
    "\n",
    " Contains a variety of mathematical objects (i.e. arrays) and functions to work with them which are very efficient, like max instead of writing oneself a loop to get the fucking number. "
   ]
  },
  {
   "cell_type": "code",
   "execution_count": 15,
   "id": "19cb0d2e",
   "metadata": {},
   "outputs": [],
   "source": [
    "import numpy as np\n",
    "# Docstring: occurs as the first statement in a module, function, class, or method definition.\n",
    "# One of the most important objects: arrays\n",
    "?np.array"
   ]
  },
  {
   "cell_type": "markdown",
   "id": "0302b1c9",
   "metadata": {},
   "source": [
    "Arrays are homogeneous, i.e. only one data type in them against lists, it is more efficient w memory and easier to operate on. "
   ]
  },
  {
   "cell_type": "code",
   "execution_count": 16,
   "id": "1a502a9f",
   "metadata": {},
   "outputs": [
    {
     "name": "stdout",
     "output_type": "stream",
     "text": [
      "[ 1  2  3  4  5  6 -8] <class 'numpy.ndarray'>\n",
      "2 1 [1 2 3 4]\n"
     ]
    }
   ],
   "source": [
    "x = np.array([1, 2, 3, 4, 5, 6,-8])\n",
    "\n",
    "print(x,type(x))\n",
    "# Elements are indexed\n",
    "print(x[1],x[0],x[0:4])"
   ]
  },
  {
   "cell_type": "code",
   "execution_count": 17,
   "id": "6a6ebf83",
   "metadata": {},
   "outputs": [
    {
     "name": "stdout",
     "output_type": "stream",
     "text": [
      "[[ 1  2  3  4]\n",
      " [ 5  6  7  8]\n",
      " [ 9 10 11 12]]\n"
     ]
    }
   ],
   "source": [
    "# It can have higher dimentions:\n",
    "a = np.array([[1, 2, 3, 4], [5, 6, 7, 8], [9, 10, 11, 12]])\n",
    "a.shape # 3 rows, 4 columns\n",
    "# CAN NOT HAVE different sized COLUMN objects\n",
    "\n",
    "print(a)\n",
    "# lets call them axis, i.e.\n",
    "# 3 length x axis, 4 length y axis"
   ]
  },
  {
   "cell_type": "code",
   "execution_count": 18,
   "id": "f3c94e5f",
   "metadata": {},
   "outputs": [
    {
     "name": "stdout",
     "output_type": "stream",
     "text": [
      "Zeros:  [0. 0. 0.]\n",
      "Ones:  [1. 1. 1.]\n",
      "Empty:  [1. 1. 1.]\n",
      "Arange:  [1 3 5 7 9]\n",
      "Linespace:  [ 0.   2.5  5.   7.5 10. ]\n",
      "Linespace 2:  [ 1.   3.8  6.6  9.4 12.2 15. ]\n"
     ]
    }
   ],
   "source": [
    "# Array types\n",
    "# Zero vector\n",
    "a = np.zeros(3)\n",
    "print(\"Zeros: \",a)\n",
    "# Ones vector\n",
    "a = np.ones(3)\n",
    "print(\"Ones: \",a)\n",
    "# Empty Vector: initial content is random and depends on the state of the memory\n",
    "a = np.empty(3)\n",
    "print(\"Empty: \",a)\n",
    "# Range\n",
    "a = np.arange(1,10,2) # same as range(from, to, step)\n",
    "print(\"Arange: \",a)\n",
    "# Linespace: Evenly spaced numbers\n",
    "a = np.linspace(0, 10, num=5) # from, to, how many numbers\n",
    "print(\"Linespace: \", a)\n",
    "print(\"Linespace 2: \", np.linspace(1,15,num = 6))"
   ]
  },
  {
   "cell_type": "code",
   "execution_count": 19,
   "id": "a3bc3318",
   "metadata": {},
   "outputs": [
    {
     "name": "stdout",
     "output_type": "stream",
     "text": [
      "[ 0  0  0  0  0  1  1  1  1  1  2  2  2  2  2  3  3  3  3  3  4  4  4  4\n",
      "  4  5  5  5  5  5  6  6  6  6  6  7  7  7  7  7  8  8  8  8  8  9  9  9\n",
      "  9 10]\n"
     ]
    }
   ],
   "source": [
    "# Can specify data type\n",
    "x = np.linspace(0,10,num = 50, dtype=np.int64)\n",
    "print(x)"
   ]
  },
  {
   "cell_type": "markdown",
   "id": "461c855a",
   "metadata": {},
   "source": [
    "#### Sorting Arrays:\n",
    "\n",
    "Can get as complex as needed, for now just regular sorts, it is interesting that it can change the orientation regardless of how the array elements are inputed."
   ]
  },
  {
   "cell_type": "code",
   "execution_count": 20,
   "id": "c8d32a26",
   "metadata": {},
   "outputs": [
    {
     "name": "stdout",
     "output_type": "stream",
     "text": [
      "[ 0  8  9 77]\n",
      "Axis = 0: \n",
      " [[0 2 0 8]\n",
      " [2 3 1 9]]\n",
      "Axis = -1: \n",
      " [[0 1 3 9]\n",
      " [0 2 2 8]]\n",
      "Argsort axis = 0: \n",
      " [[0 1 1 1]\n",
      " [1 0 0 0]]\n",
      "Argsort axis = -1: \n",
      " [[0 2 1 3]\n",
      " [2 0 1 3]]\n"
     ]
    }
   ],
   "source": [
    "arr = np.array([0,9,8,77])\n",
    "print(np.sort(arr)) # This is a function to be applied to arr, not a method of itself\n",
    "\n",
    "# Can take several dimentions of arrangemente\n",
    "x = np.array([[0, 3,1,9], [2, 2,0,8]])\n",
    "\n",
    "print(\"Axis = 0: \\n\",np.sort(x,axis = 0)) # sorts vertically\n",
    "print(\"Axis = -1: \\n\",np.sort(x)) # default -1, horizontal\n",
    "print(\"Argsort axis = 0: \\n\",np.argsort(x,axis = 0)) # Gimme the order of the arguments\n",
    "print(\"Argsort axis = -1: \\n\",np.argsort(x)) # Gimme the order of the arguments"
   ]
  },
  {
   "cell_type": "code",
   "execution_count": 21,
   "id": "2ebd0015",
   "metadata": {},
   "outputs": [
    {
     "name": "stdout",
     "output_type": "stream",
     "text": [
      "[ 5  6  7  8  5  6  7  8  5 12 21 32  1  2  3  4]\n"
     ]
    },
    {
     "data": {
      "text/plain": [
       "array([32, 21, 12,  8,  8,  7,  7,  6,  6,  5,  5,  5,  4,  3,  2,  1])"
      ]
     },
     "execution_count": 21,
     "metadata": {},
     "output_type": "execute_result"
    }
   ],
   "source": [
    "# Can join arrays\n",
    "a = np.array([1, 2, 3, 4])\n",
    "b = np.array([5, 6, 7, 8])\n",
    "\n",
    "c = np.concatenate((b,b,a*b,a)) # Takes tupple to concatenate it i.e. first argument must be ()\n",
    "\n",
    "print(c)\n",
    "\n",
    "# Reverses sorting: all the elements, beginning with the last element in reverse order\n",
    "np.sort(c)[::-1]\n"
   ]
  },
  {
   "cell_type": "code",
   "execution_count": 22,
   "id": "6a3c5d6c",
   "metadata": {},
   "outputs": [
    {
     "name": "stdout",
     "output_type": "stream",
     "text": [
      "[[1 2]\n",
      " [3 4]\n",
      " [5 6]]\n",
      "2\n",
      "(7, 2)\n",
      "14\n"
     ]
    }
   ],
   "source": [
    "# Can also add rows the same concatenate\n",
    "x = np.array([[1, 2], [3, 4]])\n",
    "y = np.array([[5, 6]])\n",
    "\n",
    "print(np.concatenate((x,y)))\n",
    "\n",
    "z = np.concatenate((x,x,x,y))\n",
    "\n",
    "# Why tf are these two the same?\n",
    "\n",
    "# Number of dimentions\n",
    "print(z.ndim)\n",
    "# print(np.ndim(z)) This also works\n",
    "\n",
    "# Shape\n",
    "print(z.shape) # elements per axis\n",
    "# no arguments inside?\n",
    "# Size\n",
    "print(z.size) # Total number of elements\n",
    "\n"
   ]
  },
  {
   "cell_type": "code",
   "execution_count": 23,
   "id": "0f141287",
   "metadata": {},
   "outputs": [],
   "source": [
    "# Three dimentional array example:\n",
    "array_example = np.array([[[0, 1, 2, 3],\n",
    "                            [4, 5, 6, 7]],\n",
    "\n",
    "                           [[0, 1, 2, 3],\n",
    "                            [4, 6, 5, 7]],\n",
    "\n",
    "                           [[0 ,1 ,8, 3],\n",
    "                            [4, 5, 6, 7]]])"
   ]
  },
  {
   "cell_type": "code",
   "execution_count": 24,
   "id": "93e604a9",
   "metadata": {
    "scrolled": true
   },
   "outputs": [
    {
     "name": "stdout",
     "output_type": "stream",
     "text": [
      "[[[0 1 2 3]\n",
      "  [4 5 6 7]]\n",
      "\n",
      " [[0 1 2 3]\n",
      "  [4 6 5 7]]\n",
      "\n",
      " [[0 1 8 3]\n",
      "  [4 5 6 7]]]\n"
     ]
    },
    {
     "data": {
      "text/plain": [
       "array([[[0, 1, 2, 3],\n",
       "        [4, 5, 6, 7]],\n",
       "\n",
       "       [[0, 1, 2, 3],\n",
       "        [4, 5, 6, 7]],\n",
       "\n",
       "       [[0, 1, 3, 8],\n",
       "        [4, 5, 6, 7]]])"
      ]
     },
     "execution_count": 24,
     "metadata": {},
     "output_type": "execute_result"
    }
   ],
   "source": [
    "print(array_example)\n",
    "\n",
    "np.sort(array_example) # Sorts by rows each matrix"
   ]
  },
  {
   "cell_type": "markdown",
   "id": "8448d9db",
   "metadata": {},
   "source": [
    "# Why sometimes functions are called np.function(obj) and othertimes obj.function()\n",
    "\n",
    "According to [this stackoverflow answer](https://stackoverflow.com/questions/66616456/why-do-i-only-need-the-name-of-the-module-in-front-of-module-functions-sometimes) it is bc when we create an object already defined inside a library then we can call functions to it bc it lives inside the library and therefore it does notneed to call the library:"
   ]
  },
  {
   "cell_type": "code",
   "execution_count": 25,
   "id": "f27f317c",
   "metadata": {},
   "outputs": [
    {
     "name": "stdout",
     "output_type": "stream",
     "text": [
      "[ 1.     1.375  1.75   2.125  2.5    2.875  3.25   3.625  4.     4.375\n",
      "  4.75   5.125  5.5    5.875  6.25   6.625  7.     7.375  7.75   8.125\n",
      "  8.5    8.875  9.25   9.625 10.   ]\n",
      "None\n"
     ]
    }
   ],
   "source": [
    "# Testing that shit\n",
    "\n",
    "test = np.linspace(1,10,num = 25)\n",
    "print(np.sort(test))\n",
    "print(test.sort())"
   ]
  },
  {
   "cell_type": "markdown",
   "id": "b54d1cdd",
   "metadata": {},
   "source": [
    "Yeah not really, I'm not getting it all the way. But i see now that when I do `test.sort()` it returns `None` bc it is looking inside test fot the function sort, which is not there.  "
   ]
  },
  {
   "cell_type": "code",
   "execution_count": 26,
   "id": "eed280aa",
   "metadata": {},
   "outputs": [
    {
     "name": "stdout",
     "output_type": "stream",
     "text": [
      "[0 1 2 3 4 5 6 7] \n",
      " [[0 1]\n",
      " [2 3]\n",
      " [4 5]\n",
      " [6 7]]\n"
     ]
    }
   ],
   "source": [
    "a = np.arange(8)\n",
    "b = a.reshape(4,2)\n",
    "print(a,\"\\n\",b)"
   ]
  },
  {
   "cell_type": "code",
   "execution_count": 27,
   "id": "bc931a3a",
   "metadata": {},
   "outputs": [
    {
     "data": {
      "text/plain": [
       "array([[0, 1, 2, 3, 4, 5, 6, 7]])"
      ]
     },
     "execution_count": 27,
     "metadata": {},
     "output_type": "execute_result"
    }
   ],
   "source": [
    "np.reshape(b,newshape=(1,8)) # Reshape as a function, shape as a method for the thing"
   ]
  },
  {
   "cell_type": "markdown",
   "id": "04650cd5",
   "metadata": {},
   "source": [
    "This seems important, [internal structure of arrays and reading orders](https://numpy.org/doc/stable/dev/internals.html#numpy-internals) but also looks impossible rn"
   ]
  },
  {
   "cell_type": "code",
   "execution_count": 28,
   "id": "a8f33300",
   "metadata": {},
   "outputs": [
    {
     "name": "stdout",
     "output_type": "stream",
     "text": [
      "Last  7\n"
     ]
    }
   ],
   "source": [
    "# Reverse Ordering of things\n",
    "\n",
    "print(\"Last \",a[-1])"
   ]
  },
  {
   "cell_type": "markdown",
   "id": "d58a2e39",
   "metadata": {},
   "source": [
    "## Slicing arrays"
   ]
  },
  {
   "cell_type": "code",
   "execution_count": 29,
   "id": "dfa3423d",
   "metadata": {},
   "outputs": [
    {
     "name": "stdout",
     "output_type": "stream",
     "text": [
      "[[ 1.   13.25 25.5 ]\n",
      " [37.75 50.   62.25]\n",
      " [74.5  86.75 99.  ]] \n",
      "\n",
      "[[13.25 25.5 ]\n",
      " [50.   62.25]\n",
      " [86.75 99.  ]] \n",
      "\n",
      "[13.25 25.5  37.75 50.   62.25 74.5  86.75 99.  ] \n",
      "\n",
      "[50.] \n",
      "\n"
     ]
    }
   ],
   "source": [
    "# Array 1-d\n",
    "a = np.linspace(1,99,num=9)\n",
    "# array 2-d\n",
    "a = a.reshape(3,3)\n",
    "#\n",
    "print(a,\"\\n\")\n",
    "# From index\n",
    "print(a[0:3,1:3],\"\\n\")# all rows, second to third column\n",
    "\n",
    "# Condition to slice\n",
    "print(a[a>10],\"\\n\")\n",
    "\n",
    "# Module: x%y == res (x divisible by y yields res)\n",
    "\n",
    "print(a[a%5 == 0],\"\\n\")\n",
    "\n"
   ]
  },
  {
   "cell_type": "markdown",
   "id": "4c567970",
   "metadata": {},
   "source": [
    "## And & Or | Operators\n",
    "IMPORTANT"
   ]
  },
  {
   "cell_type": "code",
   "execution_count": 30,
   "id": "3c56f9fc",
   "metadata": {},
   "outputs": [
    {
     "name": "stdout",
     "output_type": "stream",
     "text": [
      "[13 14 16]\n",
      "\n",
      " [False False False  True False False False False False False  True False\n",
      " False False False  True False False False False]\n",
      "\n",
      " [57  4 33 39 75]\n",
      "np.nonzero(condition)\n",
      "First array: Row where things that meet condition are found \n",
      "Second array: Columns where values are found \n",
      " (array([0, 1]), array([8, 3]))\n"
     ]
    }
   ],
   "source": [
    "# ?np.random.randint \n",
    "# Can generate random integers in the form (low, high, size = (m,n,k)), default size = 1 \n",
    "a = np.random.randint(1,100,size = 20)\n",
    "\n",
    "# Conditions must be wraped in parennthesis:\n",
    "\n",
    "print(a[(a >10) & (a<25)])\n",
    "\n",
    "# Boolean of conditions\n",
    "print(\"\\n\",(a >10) & (a<25))\n",
    "\n",
    "\n",
    "# Same with or:\n",
    "\n",
    "print(\"\\n\",a[(a%3 ==0) | (a<10)])\n",
    "\n",
    "# Generally useful nonzero\n",
    "# Nesting stuff! nice, also really quick\n",
    "\n",
    "print(\"np.nonzero(condition)\\nFirst array: Row where things that meet condition are found \\nSecond array: Columns where values are found \\n\",np.nonzero(a.reshape(2,10)>90))\n"
   ]
  },
  {
   "cell_type": "code",
   "execution_count": 31,
   "id": "08bd2796",
   "metadata": {},
   "outputs": [],
   "source": [
    "# ZIP: paste (row[i], column[i])\n",
    "\n",
    "\n",
    "b = np.nonzero(a>=63)\n",
    "np.shape(b)\n",
    "\n",
    "b = np.reshape(b,(2,4))\n",
    "\n",
    "c = np.array([[212,22,18,4]])\n",
    "# To concatenate things must be in the same dimention, always check,\n",
    "# it is different [212,22,18,4] to [[212,22,18,4]]\n",
    "d = np.concatenate((b,c))\n",
    "\n",
    "\n"
   ]
  },
  {
   "cell_type": "markdown",
   "id": "1342c8d3",
   "metadata": {},
   "source": [
    "### Note on 0 dimention and 1 dimention"
   ]
  },
  {
   "cell_type": "code",
   "execution_count": 32,
   "id": "86ebc542",
   "metadata": {},
   "outputs": [
    {
     "name": "stdout",
     "output_type": "stream",
     "text": [
      "np.array with onle 1 corchete:  (4,) \n",
      "\n",
      "np. array with 2 corchetes:  (1, 4) \n",
      "\n"
     ]
    }
   ],
   "source": [
    "print(\"np.array with onle 1 corchete: \",np.array([212,22,18,4] ).shape,\"\\n\")\n",
    "print(\"np. array with 2 corchetes: \",np.array([[212,22,18,4]]).shape,\"\\n\")"
   ]
  },
  {
   "cell_type": "code",
   "execution_count": 33,
   "id": "213029d1",
   "metadata": {},
   "outputs": [
    {
     "name": "stdout",
     "output_type": "stream",
     "text": [
      "[[  1   2   8  13]\n",
      " [ 14  16  18  19]\n",
      " [212  22  18   4]]\n",
      "[(1, 14, 212), (2, 16, 22), (8, 18, 18), (13, 19, 4)]\n",
      "[(1, 14), (2, 16), (8, 18), (13, 19)]\n"
     ]
    }
   ],
   "source": [
    "print(d)\n",
    "# iterate over the list of coordinates, and print them\n",
    "# Zip in two or three coordinates\n",
    "print(list(zip(d[0],d[1],d[2])))# zip first axis w second w third\n",
    "print(list(zip(d[0],d[1])))# zip first axis w second "
   ]
  },
  {
   "cell_type": "code",
   "execution_count": 34,
   "id": "fbde9570",
   "metadata": {},
   "outputs": [],
   "source": [
    "# Stacking shit\n",
    "a1 = np.array([[1, 1],\n",
    "                [2, 2]])\n",
    "\n",
    "a2 = np.array([[3, 3],\n",
    "                [4, 4]])"
   ]
  },
  {
   "cell_type": "code",
   "execution_count": 35,
   "id": "ff661195",
   "metadata": {},
   "outputs": [
    {
     "name": "stdout",
     "output_type": "stream",
     "text": [
      "Stacking two 2x2 vectors vertically:\n",
      " [[1 1]\n",
      " [2 2]\n",
      " [3 3]\n",
      " [4 4]]\n",
      "Stacking two 2x2 vectors horizontally:\n",
      " [[1 1 3 3]\n",
      " [2 2 4 4]]\n",
      "Concatenating two 2x2 vectors:\n",
      " [[1 1]\n",
      " [2 2]\n",
      " [3 3]\n",
      " [4 4]]\n"
     ]
    }
   ],
   "source": [
    "# Note: Most python functions (that I've seen here) which take 2 arguments actualy only take one as tupple\n",
    "print(\"Stacking two 2x2 vectors vertically:\\n\",np.vstack((a1,a2)))\n",
    "print(\"Stacking two 2x2 vectors horizontally:\\n\",np.hstack((a1,a2)))\n",
    "print(\"Concatenating two 2x2 vectors:\\n\",np.concatenate((a1,a2))) # Similar to vstack"
   ]
  },
  {
   "cell_type": "code",
   "execution_count": 36,
   "id": "3e1e34c9",
   "metadata": {},
   "outputs": [
    {
     "data": {
      "text/plain": [
       "[array([[ 1,  2,  3,  4],\n",
       "        [13, 14, 15, 16]]),\n",
       " array([[ 5,  6,  7,  8],\n",
       "        [17, 18, 19, 20]]),\n",
       " array([[ 9, 10, 11, 12],\n",
       "        [21, 22, 23, 24]])]"
      ]
     },
     "execution_count": 36,
     "metadata": {},
     "output_type": "execute_result"
    }
   ],
   "source": [
    "x = np.arange(1, 25).reshape(2, 12)\n",
    "\n",
    "# Split array into equal parts\n",
    "np.hsplit(x,3)"
   ]
  },
  {
   "cell_type": "code",
   "execution_count": 37,
   "id": "dd79bb13",
   "metadata": {},
   "outputs": [
    {
     "data": {
      "text/plain": [
       "[array([[ 1,  2,  3,  4],\n",
       "        [13, 14, 15, 16]]),\n",
       " array([[ 5,  6],\n",
       "        [17, 18]]),\n",
       " array([[ 7,  8,  9, 10, 11, 12],\n",
       "        [19, 20, 21, 22, 23, 24]])]"
      ]
     },
     "execution_count": 37,
     "metadata": {},
     "output_type": "execute_result"
    }
   ],
   "source": [
    "# What the fuck\n",
    "# First three columns, then fourth, then everything else\n",
    "np.hsplit(x, (3, 4))\n",
    "\n",
    "# First four, then 5,6 then everything else\n",
    "np.hsplit(x, (4, 6))"
   ]
  },
  {
   "cell_type": "code",
   "execution_count": 38,
   "id": "1d6a0e3c",
   "metadata": {},
   "outputs": [
    {
     "data": {
      "text/plain": [
       "5"
      ]
     },
     "execution_count": 38,
     "metadata": {},
     "output_type": "execute_result"
    }
   ],
   "source": [
    "# Splitting and substituting shit\n",
    "a = np.array([[1, 2, 3, 4], [5, 6, 7, 8], [9, 10, 11, 12]])\n",
    "\n",
    "b1 = a[1,:]\n",
    "\n",
    "b1[0]"
   ]
  },
  {
   "cell_type": "code",
   "execution_count": 39,
   "id": "dbe637e3",
   "metadata": {},
   "outputs": [],
   "source": [
    "# Change that specific indexed value\n",
    "b1[0] = 99"
   ]
  },
  {
   "cell_type": "code",
   "execution_count": 40,
   "id": "3a12f51d",
   "metadata": {},
   "outputs": [
    {
     "data": {
      "text/plain": [
       "array([99,  6,  7,  8])"
      ]
     },
     "execution_count": 40,
     "metadata": {},
     "output_type": "execute_result"
    }
   ],
   "source": [
    "b1"
   ]
  },
  {
   "cell_type": "code",
   "execution_count": 41,
   "id": "529646b3",
   "metadata": {},
   "outputs": [
    {
     "data": {
      "text/plain": [
       "array([[ 1,  2,  3,  4,  5,  6,  7,  8,  9, 10, 11, 12],\n",
       "       [13, 14, 15, 16, 17, 18, 19, 20, 21, 22, 23, 24]])"
      ]
     },
     "execution_count": 41,
     "metadata": {},
     "output_type": "execute_result"
    }
   ],
   "source": [
    "x"
   ]
  },
  {
   "cell_type": "code",
   "execution_count": 42,
   "id": "fad9a8d2",
   "metadata": {},
   "outputs": [
    {
     "data": {
      "text/plain": [
       "array([[ 1,  2,  3,  4],\n",
       "       [13, 14, 15, 16]])"
      ]
     },
     "execution_count": 42,
     "metadata": {},
     "output_type": "execute_result"
    }
   ],
   "source": [
    "y = np.hsplit(x, (4, 6)) # View, shallow copy of the thing\n",
    "y[0]"
   ]
  },
  {
   "cell_type": "code",
   "execution_count": 43,
   "id": "787cdfc0",
   "metadata": {},
   "outputs": [],
   "source": [
    "y[0] = 1000"
   ]
  },
  {
   "cell_type": "code",
   "execution_count": 44,
   "id": "d91c338a",
   "metadata": {},
   "outputs": [
    {
     "data": {
      "text/plain": [
       "[1000,\n",
       " array([[ 5,  6],\n",
       "        [17, 18]]),\n",
       " array([[ 7,  8,  9, 10, 11, 12],\n",
       "        [19, 20, 21, 22, 23, 24]])]"
      ]
     },
     "execution_count": 44,
     "metadata": {},
     "output_type": "execute_result"
    }
   ],
   "source": [
    "y"
   ]
  },
  {
   "cell_type": "code",
   "execution_count": 45,
   "id": "ec1fa72c",
   "metadata": {},
   "outputs": [
    {
     "data": {
      "text/plain": [
       "array([[ 1,  2,  3,  4,  5,  6,  7,  8,  9, 10, 11, 12],\n",
       "       [13, 14, 15, 16, 17, 18, 19, 20, 21, 22, 23, 24]])"
      ]
     },
     "execution_count": 45,
     "metadata": {},
     "output_type": "execute_result"
    }
   ],
   "source": [
    "y = x.copy() # Deep copy (some shit idk)\n",
    "y"
   ]
  },
  {
   "cell_type": "markdown",
   "id": "b79bda0f",
   "metadata": {},
   "source": [
    "Holy shit, ChatGPT literally explained that shit to me:\n",
    "\n",
    "Shallow copies only copy the reference pointers to the original data, but not the data itself.\n",
    "\n"
   ]
  },
  {
   "cell_type": "code",
   "execution_count": 46,
   "id": "850fb01d",
   "metadata": {},
   "outputs": [
    {
     "name": "stdout",
     "output_type": "stream",
     "text": [
      "[1, ['a', 3], 4]\n",
      "[1, ['a', 3], 4]\n",
      "[1, [2, 3], 4]\n"
     ]
    }
   ],
   "source": [
    "import copy\n",
    "\n",
    "# Original list\n",
    "original_list = [1, [2, 3], 4]\n",
    "\n",
    "# Shallow copy\n",
    "shallow_copy = copy.copy(original_list)\n",
    "\n",
    "# Deep copy\n",
    "deep_copy = copy.deepcopy(original_list)\n",
    "\n",
    "# Modify the nested list in the original list\n",
    "original_list[1][0] = 'a'\n",
    "\n",
    "# Verify changes\n",
    "print(original_list)  # Output: [1, ['a', 3], 4]\n",
    "print(shallow_copy)   # Output: [1, ['a', 3], 4]\n",
    "print(deep_copy)      # Output: [1, [2, 3], 4]\n"
   ]
  },
  {
   "cell_type": "markdown",
   "id": "b627f9fd",
   "metadata": {},
   "source": [
    "### Chat GPT explanation to methods vs. standalone functions:\n",
    "The difference between these two types of functions is that a method is associated with a specific object and operates on the data contained in that object, while a standalone function can operate on any object or data that is passed to it.\n",
    "\n",
    "\n",
    "* Methods: Object specific\n",
    "* Functions: work on anything\n",
    "\n",
    "\n",
    "For example, consider the built-in function len(), which is a standalone function. It can operate on any object that has a length, such as a list or a string. You call it using the syntax len(object).\n",
    "\n",
    "On the other hand, consider the string method upper(), which is a method of the string object. It operates on the data contained in the string object and returns a modified string. You call it using the syntax string.upper()."
   ]
  },
  {
   "cell_type": "code",
   "execution_count": 47,
   "id": "511f86a9",
   "metadata": {},
   "outputs": [
    {
     "name": "stdout",
     "output_type": "stream",
     "text": [
      "5\n",
      "[1, 2, 3, 4, 5, 6]\n"
     ]
    }
   ],
   "source": [
    "my_list = [1, 2, 3, 4, 5]\n",
    "\n",
    "# Call the len() function on my_list\n",
    "length = len(my_list)\n",
    "\n",
    "# Call the append() method on my_list\n",
    "my_list.append(6)\n",
    "\n",
    "print(length)   # Output: 5\n",
    "print(my_list)  # Output: [1, 2, 3, 4, 5, 6]\n"
   ]
  },
  {
   "cell_type": "markdown",
   "id": "1bad7a12",
   "metadata": {},
   "source": [
    "### Regular Ops:"
   ]
  },
  {
   "cell_type": "code",
   "execution_count": 48,
   "id": "9456613f",
   "metadata": {},
   "outputs": [
    {
     "data": {
      "text/plain": [
       "(10, 1)"
      ]
     },
     "execution_count": 48,
     "metadata": {},
     "output_type": "execute_result"
    }
   ],
   "source": [
    "x = np.random.randint(1,66,size = 10)\n",
    "y = np.array(np.random.randint(1,100,size = (10,1)))\n",
    "x = np.array(x)\n",
    "x.size\n",
    "x.ndim\n",
    "x = x[np.newaxis,:]\n",
    "\n",
    "x.ndim\n",
    "x.shape\n",
    "y.shape"
   ]
  },
  {
   "cell_type": "code",
   "execution_count": 49,
   "id": "88609938",
   "metadata": {},
   "outputs": [
    {
     "name": "stdout",
     "output_type": "stream",
     "text": [
      "Line * Column: Recular Vector multiplication\n",
      " [[2366 3913 5460 4368 2093 4732 3185 3185 5005 2730]\n",
      " [ 832 1376 1920 1536  736 1664 1120 1120 1760  960]\n",
      " [1872 3096 4320 3456 1656 3744 2520 2520 3960 2160]\n",
      " [ 728 1204 1680 1344  644 1456  980  980 1540  840]\n",
      " [1066 1763 2460 1968  943 2132 1435 1435 2255 1230]\n",
      " [ 780 1290 1800 1440  690 1560 1050 1050 1650  900]\n",
      " [ 962 1591 2220 1776  851 1924 1295 1295 2035 1110]\n",
      " [ 598  989 1380 1104  529 1196  805  805 1265  690]\n",
      " [2314 3827 5340 4272 2047 4628 3115 3115 4895 2670]\n",
      " [1534 2537 3540 2832 1357 3068 2065 2065 3245 1770]]\n",
      "Line * Line: Works as dot product\n",
      " [[2366 1376 4320 1344  943 1560 1295  805 4895 1770]]\n",
      "Col * Col: Works as dot product\n",
      " [[2366]\n",
      " [1376]\n",
      " [4320]\n",
      " [1344]\n",
      " [ 943]\n",
      " [1560]\n",
      " [1295]\n",
      " [ 805]\n",
      " [4895]\n",
      " [1770]]\n"
     ]
    }
   ],
   "source": [
    "print(\"Line * Column: Recular Vector multiplication\\n\",x*y)\n",
    "\n",
    "print(\"Line * Line: Works as dot product\\n\",y.transpose() * x)\n",
    "\n",
    "print(\"Col * Col: Works as dot product\\n\",y * x.transpose())\n"
   ]
  },
  {
   "cell_type": "code",
   "execution_count": 50,
   "id": "b3ec6f55",
   "metadata": {},
   "outputs": [
    {
     "data": {
      "text/plain": [
       "[(array([26]), array([91])),\n",
       " (array([43]), array([32])),\n",
       " (array([60]), array([72])),\n",
       " (array([48]), array([28])),\n",
       " (array([23]), array([41])),\n",
       " (array([52]), array([30])),\n",
       " (array([35]), array([37])),\n",
       " (array([35]), array([23])),\n",
       " (array([55]), array([89])),\n",
       " (array([30]), array([59]))]"
      ]
     },
     "execution_count": 50,
     "metadata": {},
     "output_type": "execute_result"
    }
   ],
   "source": [
    "z = y.transpose()\n",
    "\n",
    "r = np.concatenate((x,z)).transpose()\n",
    "\n",
    "r.shape\n",
    "# Just fucking around\n",
    "list(zip(x.transpose(),y))\n"
   ]
  },
  {
   "cell_type": "markdown",
   "id": "2e38db00",
   "metadata": {},
   "source": [
    "    Operations are regular product operations:"
   ]
  },
  {
   "cell_type": "code",
   "execution_count": 51,
   "id": "6a841d85",
   "metadata": {},
   "outputs": [
    {
     "data": {
      "text/plain": [
       "array([[117,  75, 132,  76,  64,  82,  72,  58, 144,  89]])"
      ]
     },
     "execution_count": 51,
     "metadata": {},
     "output_type": "execute_result"
    }
   ],
   "source": [
    "x + z"
   ]
  },
  {
   "cell_type": "code",
   "execution_count": 52,
   "id": "378c9536",
   "metadata": {},
   "outputs": [
    {
     "data": {
      "text/plain": [
       "array([[ 65, -11,  12, -20,  18, -22,   2, -12,  34,  29]])"
      ]
     },
     "execution_count": 52,
     "metadata": {},
     "output_type": "execute_result"
    }
   ],
   "source": [
    "z - x"
   ]
  },
  {
   "cell_type": "code",
   "execution_count": 53,
   "id": "27052b7b",
   "metadata": {},
   "outputs": [
    {
     "data": {
      "text/plain": [
       "array([[3.5       , 0.74418605, 1.2       , 0.58333333, 1.7826087 ,\n",
       "        0.57692308, 1.05714286, 0.65714286, 1.61818182, 1.96666667]])"
      ]
     },
     "execution_count": 53,
     "metadata": {},
     "output_type": "execute_result"
    }
   ],
   "source": [
    "z / x"
   ]
  },
  {
   "cell_type": "code",
   "execution_count": 54,
   "id": "0b441d77",
   "metadata": {},
   "outputs": [
    {
     "data": {
      "text/plain": [
       "array([[2366, 1376, 4320, 1344,  943, 1560, 1295,  805, 4895, 1770]])"
      ]
     },
     "execution_count": 54,
     "metadata": {},
     "output_type": "execute_result"
    }
   ],
   "source": [
    "z * x"
   ]
  },
  {
   "cell_type": "code",
   "execution_count": 55,
   "id": "eff7b61b",
   "metadata": {},
   "outputs": [
    {
     "name": "stdout",
     "output_type": "stream",
     "text": [
      "[[2366 3913 5460 4368 2093 4732 3185 3185 5005 2730]\n",
      " [ 832 1376 1920 1536  736 1664 1120 1120 1760  960]\n",
      " [1872 3096 4320 3456 1656 3744 2520 2520 3960 2160]\n",
      " [ 728 1204 1680 1344  644 1456  980  980 1540  840]\n",
      " [1066 1763 2460 1968  943 2132 1435 1435 2255 1230]\n",
      " [ 780 1290 1800 1440  690 1560 1050 1050 1650  900]\n",
      " [ 962 1591 2220 1776  851 1924 1295 1295 2035 1110]\n",
      " [ 598  989 1380 1104  529 1196  805  805 1265  690]\n",
      " [2314 3827 5340 4272 2047 4628 3115 3115 4895 2670]\n",
      " [1534 2537 3540 2832 1357 3068 2065 2065 3245 1770]]\n",
      "Adding along x axis:\n",
      " [37037 13024 29304 11396 16687 12210 15059  9361 36223 24013]\n",
      "Adding along y axis:\n",
      " [13052 21586 30120 24096 11546 26104 17570 17570 27610 15060]\n"
     ]
    }
   ],
   "source": [
    "test_m = y*x\n",
    "\n",
    "print(test_m)\n",
    "\n",
    "print(\"Adding along x axis:\\n\",test_m.sum(axis = -1))\n",
    "print(\"Adding along y axis:\\n\",test_m.sum(axis = 0))"
   ]
  },
  {
   "cell_type": "code",
   "execution_count": 56,
   "id": "9e07da25",
   "metadata": {},
   "outputs": [
    {
     "data": {
      "text/plain": [
       "array([[3549. , 5869.5, 8190. , 6552. , 3139.5, 7098. , 4777.5, 4777.5,\n",
       "        7507.5, 4095. ],\n",
       "       [1248. , 2064. , 2880. , 2304. , 1104. , 2496. , 1680. , 1680. ,\n",
       "        2640. , 1440. ],\n",
       "       [2808. , 4644. , 6480. , 5184. , 2484. , 5616. , 3780. , 3780. ,\n",
       "        5940. , 3240. ],\n",
       "       [1092. , 1806. , 2520. , 2016. ,  966. , 2184. , 1470. , 1470. ,\n",
       "        2310. , 1260. ],\n",
       "       [1599. , 2644.5, 3690. , 2952. , 1414.5, 3198. , 2152.5, 2152.5,\n",
       "        3382.5, 1845. ],\n",
       "       [1170. , 1935. , 2700. , 2160. , 1035. , 2340. , 1575. , 1575. ,\n",
       "        2475. , 1350. ],\n",
       "       [1443. , 2386.5, 3330. , 2664. , 1276.5, 2886. , 1942.5, 1942.5,\n",
       "        3052.5, 1665. ],\n",
       "       [ 897. , 1483.5, 2070. , 1656. ,  793.5, 1794. , 1207.5, 1207.5,\n",
       "        1897.5, 1035. ],\n",
       "       [3471. , 5740.5, 8010. , 6408. , 3070.5, 6942. , 4672.5, 4672.5,\n",
       "        7342.5, 4005. ],\n",
       "       [2301. , 3805.5, 5310. , 4248. , 2035.5, 4602. , 3097.5, 3097.5,\n",
       "        4867.5, 2655. ]])"
      ]
     },
     "execution_count": 56,
     "metadata": {},
     "output_type": "execute_result"
    }
   ],
   "source": [
    "# \"Brodcasting\": Array multiplication between different size arrays\n",
    "\n",
    "test_m*1.5\n",
    "\n"
   ]
  },
  {
   "cell_type": "code",
   "execution_count": 57,
   "id": "cdd3dfd9",
   "metadata": {},
   "outputs": [
    {
     "data": {
      "text/plain": [
       "529"
      ]
     },
     "execution_count": 57,
     "metadata": {},
     "output_type": "execute_result"
    }
   ],
   "source": [
    "test_m.min()"
   ]
  },
  {
   "cell_type": "code",
   "execution_count": 58,
   "id": "22a1b2cf",
   "metadata": {},
   "outputs": [
    {
     "data": {
      "text/plain": [
       "5460"
      ]
     },
     "execution_count": 58,
     "metadata": {},
     "output_type": "execute_result"
    }
   ],
   "source": [
    "test_m.max()"
   ]
  },
  {
   "cell_type": "code",
   "execution_count": 59,
   "id": "7bf448e7",
   "metadata": {},
   "outputs": [
    {
     "data": {
      "text/plain": [
       "array([ 598,  989, 1380, 1104,  529, 1196,  805,  805, 1265,  690])"
      ]
     },
     "execution_count": 59,
     "metadata": {},
     "output_type": "execute_result"
    }
   ],
   "source": [
    "# Can always specify axis\n",
    "\n",
    "test_m.min(axis = 0)"
   ]
  },
  {
   "cell_type": "markdown",
   "id": "647d2a43",
   "metadata": {},
   "source": [
    "### Matrices\n",
    "\n",
    "2-D arrays, we knew that but yea"
   ]
  },
  {
   "cell_type": "code",
   "execution_count": 62,
   "id": "b9c99a3d",
   "metadata": {},
   "outputs": [
    {
     "data": {
      "text/plain": [
       "array([[1, 3],\n",
       "       [3, 4],\n",
       "       [9, 8]])"
      ]
     },
     "execution_count": 62,
     "metadata": {},
     "output_type": "execute_result"
    }
   ],
   "source": [
    "mat = np.array(([1,3],[3,4],[9,8]))\n",
    "mat"
   ]
  },
  {
   "cell_type": "code",
   "execution_count": 66,
   "id": "428b2ce9",
   "metadata": {},
   "outputs": [
    {
     "name": "stdout",
     "output_type": "stream",
     "text": [
      "Element:  4\n",
      "Col:  [3 4]\n",
      "Row:  [9 8]\n"
     ]
    }
   ],
   "source": [
    "# Commands which work on tibbles and dfs in R do work but in arrays, \n",
    "# for data frames and stuff i feel it's a little different\n",
    "\n",
    "print(\"Element: \", mat[1,1])\n",
    "print(\"Col: \",mat[0:2,1])\n",
    "print(\"Row: \",mat[2,:])\n",
    "# Does not distinguish graphically vectors"
   ]
  },
  {
   "cell_type": "code",
   "execution_count": 67,
   "id": "e91c31e9",
   "metadata": {},
   "outputs": [
    {
     "data": {
      "text/plain": [
       "array([[ 2,  6],\n",
       "       [ 6,  8],\n",
       "       [18, 16]])"
      ]
     },
     "execution_count": 67,
     "metadata": {},
     "output_type": "execute_result"
    }
   ],
   "source": [
    "# Operating in matrixes is kinda weird, multiplying or adding vectors\n",
    "# Does the same for every entry\n",
    "vec = np.array(([2,2]))\n",
    "\n",
    "mat * vec"
   ]
  },
  {
   "cell_type": "code",
   "execution_count": 71,
   "id": "ef2b8c8f",
   "metadata": {},
   "outputs": [],
   "source": [
    "mat_2 = np.ones((3,2))*2"
   ]
  },
  {
   "cell_type": "code",
   "execution_count": 73,
   "id": "b2bacf89",
   "metadata": {},
   "outputs": [
    {
     "data": {
      "text/plain": [
       "array([[ 2.,  6.],\n",
       "       [ 6.,  8.],\n",
       "       [18., 16.]])"
      ]
     },
     "execution_count": 73,
     "metadata": {},
     "output_type": "execute_result"
    }
   ],
   "source": [
    "# Yields same result\n",
    "mat * mat_2"
   ]
  },
  {
   "cell_type": "code",
   "execution_count": 74,
   "id": "e6be71fe",
   "metadata": {},
   "outputs": [
    {
     "data": {
      "text/plain": [
       "array([[ True,  True],\n",
       "       [ True,  True],\n",
       "       [ True,  True]])"
      ]
     },
     "execution_count": 74,
     "metadata": {},
     "output_type": "execute_result"
    }
   ],
   "source": [
    "# Same with other ops:\n",
    "\n",
    "mat - mat_2 == mat - vec\n"
   ]
  },
  {
   "cell_type": "code",
   "execution_count": null,
   "id": "0f22c28a",
   "metadata": {},
   "outputs": [],
   "source": []
  },
  {
   "cell_type": "code",
   "execution_count": null,
   "id": "c891708b",
   "metadata": {},
   "outputs": [],
   "source": []
  },
  {
   "cell_type": "code",
   "execution_count": null,
   "id": "931e6f0c",
   "metadata": {},
   "outputs": [],
   "source": []
  },
  {
   "cell_type": "code",
   "execution_count": null,
   "id": "fbaf056c",
   "metadata": {},
   "outputs": [],
   "source": []
  },
  {
   "cell_type": "code",
   "execution_count": null,
   "id": "4bfcc94a",
   "metadata": {},
   "outputs": [],
   "source": []
  },
  {
   "cell_type": "code",
   "execution_count": null,
   "id": "634bdaee",
   "metadata": {},
   "outputs": [],
   "source": []
  },
  {
   "cell_type": "code",
   "execution_count": null,
   "id": "4ae6f921",
   "metadata": {},
   "outputs": [],
   "source": []
  },
  {
   "cell_type": "code",
   "execution_count": null,
   "id": "304a7ccd",
   "metadata": {},
   "outputs": [],
   "source": []
  },
  {
   "cell_type": "code",
   "execution_count": null,
   "id": "cff38198",
   "metadata": {},
   "outputs": [],
   "source": []
  }
 ],
 "metadata": {
  "kernelspec": {
   "display_name": "Python 3 (ipykernel)",
   "language": "python",
   "name": "python3"
  },
  "language_info": {
   "codemirror_mode": {
    "name": "ipython",
    "version": 3
   },
   "file_extension": ".py",
   "mimetype": "text/x-python",
   "name": "python",
   "nbconvert_exporter": "python",
   "pygments_lexer": "ipython3",
   "version": "3.9.7"
  }
 },
 "nbformat": 4,
 "nbformat_minor": 5
}
