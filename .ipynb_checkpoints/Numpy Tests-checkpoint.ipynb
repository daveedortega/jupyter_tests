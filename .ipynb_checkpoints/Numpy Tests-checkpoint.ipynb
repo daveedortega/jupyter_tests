{
 "cells": [
  {
   "cell_type": "markdown",
   "id": "57512cf9",
   "metadata": {},
   "source": [
    "# Testing Libraries: Numpy\n",
    "\n",
    "In our python journey towards data science we gotta learn how to use shit to plot stuff and do numbers n shit so here we go. \n",
    "\n",
    "* NumPy: Numerical Python: [Beginner's Guide](https://numpy.org/doc/stable/user/absolute_beginners.html)\n",
    "\n",
    " Contains a variety of mathematical objects (i.e. arrays) and functions to work with them which are very efficient, like max instead of writing oneself a loop to get the fucking number. "
   ]
  },
  {
   "cell_type": "code",
   "execution_count": 1,
   "id": "91270f87",
   "metadata": {},
   "outputs": [],
   "source": [
    "import numpy as np\n",
    "# Docstring: occurs as the first statement in a module, function, class, or method definition.\n",
    "# One of the most important objects: arrays\n",
    "?np.array"
   ]
  },
  {
   "cell_type": "markdown",
   "id": "32d760d6",
   "metadata": {},
   "source": [
    "Arrays are homogeneous, i.e. only one data type in them against lists, it is more efficient w memory and easier to operate on. "
   ]
  },
  {
   "cell_type": "code",
   "execution_count": 13,
   "id": "479608e7",
   "metadata": {},
   "outputs": [
    {
     "name": "stdout",
     "output_type": "stream",
     "text": [
      "[ 1  2  3  4  5  6 -8] <class 'numpy.ndarray'>\n",
      "2 1 [1 2 3 4]\n"
     ]
    }
   ],
   "source": [
    "x = np.array([1, 2, 3, 4, 5, 6,-8])\n",
    "\n",
    "print(x,type(x))\n",
    "# Elements are indexed\n",
    "print(x[1],x[0],x[0:4])"
   ]
  },
  {
   "cell_type": "code",
   "execution_count": 18,
   "id": "e2ec6ee8",
   "metadata": {},
   "outputs": [
    {
     "name": "stdout",
     "output_type": "stream",
     "text": [
      "[[ 1  2  3  4]\n",
      " [ 5  6  7  8]\n",
      " [ 9 10 11 12]]\n"
     ]
    }
   ],
   "source": [
    "# It can have higher dimentions:\n",
    "a = np.array([[1, 2, 3, 4], [5, 6, 7, 8], [9, 10, 11, 12]])\n",
    "a.shape # 3 rows, 4 columns\n",
    "# CAN NOT HAVE different sized COLUMN objects\n",
    "\n",
    "print(a)\n",
    "# lets call them axis, i.e.\n",
    "# 3 length x axis, 4 length y axis"
   ]
  },
  {
   "cell_type": "code",
   "execution_count": 31,
   "id": "08175314",
   "metadata": {},
   "outputs": [
    {
     "name": "stdout",
     "output_type": "stream",
     "text": [
      "Zeros:  [0. 0. 0.]\n",
      "Ones:  [1. 1. 1.]\n",
      "Empty:  [1. 1. 1.]\n",
      "Arange:  [1 3 5 7 9]\n",
      "Linespace:  [ 0.   2.5  5.   7.5 10. ]\n",
      "Linespace 2:  [ 1.   3.8  6.6  9.4 12.2 15. ]\n"
     ]
    }
   ],
   "source": [
    "# Array types\n",
    "# Zero vector\n",
    "a = np.zeros(3)\n",
    "print(\"Zeros: \",a)\n",
    "# Ones vector\n",
    "a = np.ones(3)\n",
    "print(\"Ones: \",a)\n",
    "# Empty Vector: initial content is random and depends on the state of the memory\n",
    "a = np.empty(3)\n",
    "print(\"Empty: \",a)\n",
    "# Range\n",
    "a = np.arange(1,10,2) # same as range(from, to, step)\n",
    "print(\"Arange: \",a)\n",
    "# Linespace: Evenly spaced numbers\n",
    "a = np.linspace(0, 10, num=5) # from, to, how many numbers\n",
    "print(\"Linespace: \", a)\n",
    "print(\"Linespace 2: \", np.linspace(1,15,num = 6))"
   ]
  },
  {
   "cell_type": "code",
   "execution_count": 40,
   "id": "73304f52",
   "metadata": {},
   "outputs": [
    {
     "name": "stdout",
     "output_type": "stream",
     "text": [
      "[ 0  0  0  0  0  1  1  1  1  1  2  2  2  2  2  3  3  3  3  3  4  4  4  4\n",
      "  4  5  5  5  5  5  6  6  6  6  6  7  7  7  7  7  8  8  8  8  8  9  9  9\n",
      "  9 10]\n"
     ]
    }
   ],
   "source": [
    "# Can specify data type\n",
    "x = np.linspace(0,10,num = 50, dtype=np.int64)\n",
    "print(x)"
   ]
  },
  {
   "cell_type": "markdown",
   "id": "bc5c7942",
   "metadata": {},
   "source": [
    "#### Sorting Arrays:\n",
    "\n",
    "Can get as complex as needed, for now just regular sorts, it is interesting that it can change the orientation regardless of how the array elements are inputed."
   ]
  },
  {
   "cell_type": "code",
   "execution_count": 57,
   "id": "6eb486d2",
   "metadata": {},
   "outputs": [
    {
     "name": "stdout",
     "output_type": "stream",
     "text": [
      "[ 0  8  9 77]\n",
      "Axis = 0: \n",
      " [[0 2 0 8]\n",
      " [2 3 1 9]]\n",
      "Axis = -1: \n",
      " [[0 1 3 9]\n",
      " [0 2 2 8]]\n",
      "Argsort axis = 0: \n",
      " [[0 1 1 1]\n",
      " [1 0 0 0]]\n",
      "Argsort axis = -1: \n",
      " [[0 2 1 3]\n",
      " [2 0 1 3]]\n"
     ]
    }
   ],
   "source": [
    "arr = np.array([0,9,8,77])\n",
    "print(np.sort(arr)) # This is a function to be applied to arr, not a method of itself\n",
    "\n",
    "# Can take several dimentions of arrangemente\n",
    "x = np.array([[0, 3,1,9], [2, 2,0,8]])\n",
    "\n",
    "print(\"Axis = 0: \\n\",np.sort(x,axis = 0)) # sorts vertically\n",
    "print(\"Axis = -1: \\n\",np.sort(x)) # default -1, horizontal\n",
    "print(\"Argsort axis = 0: \\n\",np.argsort(x,axis = 0)) # Gimme the order of the arguments\n",
    "print(\"Argsort axis = -1: \\n\",np.argsort(x)) # Gimme the order of the arguments"
   ]
  },
  {
   "cell_type": "code",
   "execution_count": 70,
   "id": "b24e70e8",
   "metadata": {},
   "outputs": [
    {
     "name": "stdout",
     "output_type": "stream",
     "text": [
      "[ 5  6  7  8  5  6  7  8  5 12 21 32  1  2  3  4]\n"
     ]
    },
    {
     "data": {
      "text/plain": [
       "array([32, 21, 12,  8,  8,  7,  7,  6,  6,  5,  5,  5,  4,  3,  2,  1])"
      ]
     },
     "execution_count": 70,
     "metadata": {},
     "output_type": "execute_result"
    }
   ],
   "source": [
    "# Can join arrays\n",
    "a = np.array([1, 2, 3, 4])\n",
    "b = np.array([5, 6, 7, 8])\n",
    "\n",
    "c = np.concatenate((b,b,a*b,a)) # Takes tupple to concatenate it i.e. first argument must be ()\n",
    "\n",
    "print(c)\n",
    "\n",
    "# Reverses sorting: all the elements, beginning with the last element in reverse order\n",
    "np.sort(c)[::-1]\n"
   ]
  },
  {
   "cell_type": "code",
   "execution_count": 92,
   "id": "5baa3d06",
   "metadata": {},
   "outputs": [
    {
     "name": "stdout",
     "output_type": "stream",
     "text": [
      "[[1 2]\n",
      " [3 4]\n",
      " [5 6]]\n",
      "2\n",
      "(7, 2)\n",
      "14\n"
     ]
    }
   ],
   "source": [
    "# Can also add rows the same concatenate\n",
    "x = np.array([[1, 2], [3, 4]])\n",
    "y = np.array([[5, 6]])\n",
    "\n",
    "print(np.concatenate((x,y)))\n",
    "\n",
    "z = np.concatenate((x,x,x,y))\n",
    "\n",
    "# Why tf are these two the same?\n",
    "\n",
    "# Number of dimentions\n",
    "print(z.ndim)\n",
    "# print(np.ndim(z)) This also works\n",
    "\n",
    "# Shape\n",
    "print(z.shape) # elements per axis\n",
    "# no arguments inside?\n",
    "# Size\n",
    "print(z.size) # Total number of elements\n",
    "\n"
   ]
  },
  {
   "cell_type": "code",
   "execution_count": 100,
   "id": "5cf7eaea",
   "metadata": {},
   "outputs": [],
   "source": [
    "# Three dimentional array example:\n",
    "array_example = np.array([[[0, 1, 2, 3],\n",
    "                            [4, 5, 6, 7]],\n",
    "\n",
    "                           [[0, 1, 2, 3],\n",
    "                            [4, 6, 5, 7]],\n",
    "\n",
    "                           [[0 ,1 ,8, 3],\n",
    "                            [4, 5, 6, 7]]])"
   ]
  },
  {
   "cell_type": "code",
   "execution_count": 101,
   "id": "c0e1861c",
   "metadata": {
    "scrolled": true
   },
   "outputs": [
    {
     "name": "stdout",
     "output_type": "stream",
     "text": [
      "[[[0 1 2 3]\n",
      "  [4 5 6 7]]\n",
      "\n",
      " [[0 1 2 3]\n",
      "  [4 6 5 7]]\n",
      "\n",
      " [[0 1 8 3]\n",
      "  [4 5 6 7]]]\n"
     ]
    },
    {
     "data": {
      "text/plain": [
       "array([[[0, 1, 2, 3],\n",
       "        [4, 5, 6, 7]],\n",
       "\n",
       "       [[0, 1, 2, 3],\n",
       "        [4, 5, 6, 7]],\n",
       "\n",
       "       [[0, 1, 3, 8],\n",
       "        [4, 5, 6, 7]]])"
      ]
     },
     "execution_count": 101,
     "metadata": {},
     "output_type": "execute_result"
    }
   ],
   "source": [
    "print(array_example)\n",
    "\n",
    "np.sort(array_example) # Sorts by rows each matrix"
   ]
  },
  {
   "cell_type": "markdown",
   "id": "8fa625cd",
   "metadata": {},
   "source": [
    "# Why sometimes functions are called np.function(obj) and othertimes obj.function()\n",
    "\n",
    "According to [this stackoverflow answer](https://stackoverflow.com/questions/66616456/why-do-i-only-need-the-name-of-the-module-in-front-of-module-functions-sometimes) it is bc when we create an object already defined inside a library then we can call functions to it bc it lives inside the library and therefore it does notneed to call the library:"
   ]
  },
  {
   "cell_type": "code",
   "execution_count": 113,
   "id": "4e578fe5",
   "metadata": {},
   "outputs": [
    {
     "name": "stdout",
     "output_type": "stream",
     "text": [
      "[ 1.     1.375  1.75   2.125  2.5    2.875  3.25   3.625  4.     4.375\n",
      "  4.75   5.125  5.5    5.875  6.25   6.625  7.     7.375  7.75   8.125\n",
      "  8.5    8.875  9.25   9.625 10.   ]\n",
      "None\n"
     ]
    }
   ],
   "source": [
    "# Testing that shit\n",
    "\n",
    "test = np.linspace(1,10,num = 25)\n",
    "print(np.sort(test))\n",
    "print(test.sort())"
   ]
  },
  {
   "cell_type": "markdown",
   "id": "50f55604",
   "metadata": {},
   "source": [
    "Yeah not really, I'm not getting it all the way. But i see now that when I do `test.sort()` it returns `None` bc it is looking inside test fot the function sort, which is not there.  "
   ]
  },
  {
   "cell_type": "code",
   "execution_count": 115,
   "id": "800f28e0",
   "metadata": {},
   "outputs": [
    {
     "name": "stdout",
     "output_type": "stream",
     "text": [
      "[0 1 2 3 4 5 6 7] \n",
      " [[0 1]\n",
      " [2 3]\n",
      " [4 5]\n",
      " [6 7]]\n"
     ]
    }
   ],
   "source": [
    "a = np.arange(8)\n",
    "b = a.reshape(4,2)\n",
    "print(a,\"\\n\",b)"
   ]
  },
  {
   "cell_type": "code",
   "execution_count": 117,
   "id": "7fdbef34",
   "metadata": {},
   "outputs": [
    {
     "data": {
      "text/plain": [
       "array([[0, 1, 2, 3, 4, 5, 6, 7]])"
      ]
     },
     "execution_count": 117,
     "metadata": {},
     "output_type": "execute_result"
    }
   ],
   "source": [
    "np.reshape(b,newshape=(1,8)) # Reshape as a function, shape as a method for the thing"
   ]
  },
  {
   "cell_type": "markdown",
   "id": "787b1302",
   "metadata": {},
   "source": [
    "This seems important, [internal structure of arrays and reading orders](https://numpy.org/doc/stable/dev/internals.html#numpy-internals) but also looks impossible rn"
   ]
  },
  {
   "cell_type": "code",
   "execution_count": 119,
   "id": "d9261028",
   "metadata": {},
   "outputs": [
    {
     "data": {
      "text/plain": [
       "7"
      ]
     },
     "execution_count": 119,
     "metadata": {},
     "output_type": "execute_result"
    }
   ],
   "source": [
    "# Reverse Ordering of things\n",
    "\n",
    "print(\"Last \"a[-1])"
   ]
  },
  {
   "cell_type": "markdown",
   "id": "20dd14cf",
   "metadata": {},
   "source": [
    "## Slicing arrays"
   ]
  },
  {
   "cell_type": "code",
   "execution_count": 142,
   "id": "2bba729c",
   "metadata": {},
   "outputs": [
    {
     "name": "stdout",
     "output_type": "stream",
     "text": [
      "[[ 1.   13.25 25.5 ]\n",
      " [37.75 50.   62.25]\n",
      " [74.5  86.75 99.  ]] \n",
      "\n",
      "[[13.25 25.5 ]\n",
      " [50.   62.25]\n",
      " [86.75 99.  ]] \n",
      "\n",
      "[13.25 25.5  37.75 50.   62.25 74.5  86.75 99.  ] \n",
      "\n",
      "[50.] \n",
      "\n"
     ]
    }
   ],
   "source": [
    "# Array 1-d\n",
    "a = np.linspace(1,99,num=9)\n",
    "# array 2-d\n",
    "a = a.reshape(3,3)\n",
    "#\n",
    "print(a,\"\\n\")\n",
    "# From index\n",
    "print(a[0:3,1:3],\"\\n\")# all rows, second to third column\n",
    "\n",
    "# Condition to slice\n",
    "print(a[a>10],\"\\n\")\n",
    "\n",
    "# Module: x%y == res (x divisible by y yields res)\n",
    "\n",
    "print(a[a%5 == 0],\"\\n\")\n",
    "\n"
   ]
  },
  {
   "cell_type": "markdown",
   "id": "0551df45",
   "metadata": {},
   "source": [
    "## And & Or | Operators\n",
    "IMPORTANT"
   ]
  },
  {
   "cell_type": "code",
   "execution_count": 170,
   "id": "593e97f0",
   "metadata": {},
   "outputs": [
    {
     "name": "stdout",
     "output_type": "stream",
     "text": [
      "[22 12 22]\n",
      "\n",
      " [ True False False False False False  True False False False  True False\n",
      " False False False False False False False False]\n",
      "\n",
      " [12 57 57 78]\n",
      "np.nonzero(condition)\n",
      "First array: Row where things that meet condition are found \n",
      "Second array: Columns where values are found \n",
      " (array([0]), array([4]))\n"
     ]
    }
   ],
   "source": [
    "# ?np.random.randint \n",
    "# Can generate random integers in the form (low, high, size = (m,n,k)), default size = 1 \n",
    "a = np.random.randint(1,100,size = 20)\n",
    "\n",
    "# Conditions must be wraped in parennthesis:\n",
    "\n",
    "print(a[(a >10) & (a<25)])\n",
    "\n",
    "# Boolean of conditions\n",
    "print(\"\\n\",(a >10) & (a<25))\n",
    "\n",
    "\n",
    "# Same with or:\n",
    "\n",
    "print(\"\\n\",a[(a%3 ==0) | (a<10)])\n",
    "\n",
    "# Generally useful nonzero\n",
    "# Nesting stuff! nice, also really quick\n",
    "\n",
    "print(\"np.nonzero(condition)\\nFirst array: Row where things that meet condition are found \\nSecond array: Columns where values are found \\n\",np.nonzero(a.reshape(2,10)>90))\n"
   ]
  },
  {
   "cell_type": "code",
   "execution_count": 194,
   "id": "033205ba",
   "metadata": {},
   "outputs": [],
   "source": [
    "# ZIP: paste (row[i], column[i])\n",
    "\n",
    "\n",
    "b = np.nonzero(a>=63)\n",
    "np.shape(b)\n",
    "\n",
    "b = np.reshape(b,(2,4))\n",
    "\n",
    "c = np.array([[212,22,18,4]])\n",
    "# To concatenate things must be in the same dimention, always check,\n",
    "# it is different [212,22,18,4] to [[212,22,18,4]]\n",
    "d = np.concatenate((b,c))\n",
    "\n",
    "\n"
   ]
  },
  {
   "cell_type": "markdown",
   "id": "168ff139",
   "metadata": {},
   "source": [
    "### Note on 0 dimention and 1 dimention"
   ]
  },
  {
   "cell_type": "code",
   "execution_count": 197,
   "id": "a9199c4d",
   "metadata": {},
   "outputs": [
    {
     "name": "stdout",
     "output_type": "stream",
     "text": [
      "np.array with onle 1 corchete:  (4,) \n",
      "\n",
      "np. array with 2 corchetes:  (1, 4) \n",
      "\n"
     ]
    }
   ],
   "source": [
    "print(\"np.array with onle 1 corchete: \",np.array([212,22,18,4] ).shape,\"\\n\")\n",
    "print(\"np. array with 2 corchetes: \",np.array([[212,22,18,4]]).shape,\"\\n\")"
   ]
  },
  {
   "cell_type": "code",
   "execution_count": 204,
   "id": "be8d3441",
   "metadata": {},
   "outputs": [
    {
     "name": "stdout",
     "output_type": "stream",
     "text": [
      "[[  2   4   7   8]\n",
      " [ 12  15  17  18]\n",
      " [212  22  18   4]]\n",
      "[(2, 12, 212), (4, 15, 22), (7, 17, 18), (8, 18, 4)]\n",
      "[(2, 12), (4, 15), (7, 17), (8, 18)]\n"
     ]
    }
   ],
   "source": [
    "print(d)\n",
    "# iterate over the list of coordinates, and print them\n",
    "# Zip in two or three coordinates\n",
    "print(list(zip(d[0],d[1],d[2])))# zip first axis w second w third\n",
    "print(list(zip(d[0],d[1])))# zip first axis w second "
   ]
  },
  {
   "cell_type": "code",
   "execution_count": 205,
   "id": "3a6dc403",
   "metadata": {},
   "outputs": [],
   "source": [
    "# Stacking shit\n",
    "a1 = np.array([[1, 1],\n",
    "                [2, 2]])\n",
    "\n",
    "a2 = np.array([[3, 3],\n",
    "                [4, 4]])"
   ]
  },
  {
   "cell_type": "code",
   "execution_count": 211,
   "id": "1128ee34",
   "metadata": {},
   "outputs": [
    {
     "name": "stdout",
     "output_type": "stream",
     "text": [
      "Stacking two 2x2 vectors vertically:\n",
      " [[1 1]\n",
      " [2 2]\n",
      " [3 3]\n",
      " [4 4]]\n",
      "Stacking two 2x2 vectors horizontally:\n",
      " [[1 1 3 3]\n",
      " [2 2 4 4]]\n",
      "Concatenating two 2x2 vectors:\n",
      " [[1 1]\n",
      " [2 2]\n",
      " [3 3]\n",
      " [4 4]]\n"
     ]
    }
   ],
   "source": [
    "# Note: Most python functions (that I've seen here) which take 2 arguments actualy only take one as tupple\n",
    "print(\"Stacking two 2x2 vectors vertically:\\n\",np.vstack((a1,a2)))\n",
    "print(\"Stacking two 2x2 vectors horizontally:\\n\",np.hstack((a1,a2)))\n",
    "print(\"Concatenating two 2x2 vectors:\\n\",np.concatenate((a1,a2))) # Similar to vstack"
   ]
  },
  {
   "cell_type": "code",
   "execution_count": 217,
   "id": "b7f3b7c1",
   "metadata": {},
   "outputs": [
    {
     "data": {
      "text/plain": [
       "[array([[ 1,  2,  3,  4],\n",
       "        [13, 14, 15, 16]]),\n",
       " array([[ 5,  6,  7,  8],\n",
       "        [17, 18, 19, 20]]),\n",
       " array([[ 9, 10, 11, 12],\n",
       "        [21, 22, 23, 24]])]"
      ]
     },
     "execution_count": 217,
     "metadata": {},
     "output_type": "execute_result"
    }
   ],
   "source": [
    "x = np.arange(1, 25).reshape(2, 12)\n",
    "\n",
    "# Split array into equal parts\n",
    "np.hsplit(x,3)"
   ]
  },
  {
   "cell_type": "code",
   "execution_count": 222,
   "id": "16c6947d",
   "metadata": {},
   "outputs": [
    {
     "data": {
      "text/plain": [
       "[array([[ 1,  2,  3,  4],\n",
       "        [13, 14, 15, 16]]),\n",
       " array([[ 5,  6],\n",
       "        [17, 18]]),\n",
       " array([[ 7,  8,  9, 10, 11, 12],\n",
       "        [19, 20, 21, 22, 23, 24]])]"
      ]
     },
     "execution_count": 222,
     "metadata": {},
     "output_type": "execute_result"
    }
   ],
   "source": [
    "# What the fuck\n",
    "# First three columns, then fourth, then everything else\n",
    "np.hsplit(x, (3, 4))\n",
    "\n",
    "# First four, then 5,6 then everything else\n",
    "np.hsplit(x, (4, 6))"
   ]
  },
  {
   "cell_type": "code",
   "execution_count": 224,
   "id": "50b080e1",
   "metadata": {},
   "outputs": [
    {
     "data": {
      "text/plain": [
       "5"
      ]
     },
     "execution_count": 224,
     "metadata": {},
     "output_type": "execute_result"
    }
   ],
   "source": [
    "# Splitting and substituting shit\n",
    "a = np.array([[1, 2, 3, 4], [5, 6, 7, 8], [9, 10, 11, 12]])\n",
    "\n",
    "b1 = a[1,:]\n",
    "\n",
    "b1[0]"
   ]
  },
  {
   "cell_type": "code",
   "execution_count": 227,
   "id": "fe95d203",
   "metadata": {},
   "outputs": [],
   "source": [
    "# Change that specific indexed value\n",
    "b1[0] = 99"
   ]
  },
  {
   "cell_type": "code",
   "execution_count": 228,
   "id": "24020d67",
   "metadata": {},
   "outputs": [
    {
     "data": {
      "text/plain": [
       "array([99,  6,  7,  8])"
      ]
     },
     "execution_count": 228,
     "metadata": {},
     "output_type": "execute_result"
    }
   ],
   "source": [
    "b1"
   ]
  },
  {
   "cell_type": "code",
   "execution_count": 229,
   "id": "a3d79f93",
   "metadata": {},
   "outputs": [
    {
     "data": {
      "text/plain": [
       "array([[ 1,  2,  3,  4,  5,  6,  7,  8,  9, 10, 11, 12],\n",
       "       [13, 14, 15, 16, 17, 18, 19, 20, 21, 22, 23, 24]])"
      ]
     },
     "execution_count": 229,
     "metadata": {},
     "output_type": "execute_result"
    }
   ],
   "source": [
    "x"
   ]
  },
  {
   "cell_type": "code",
   "execution_count": 236,
   "id": "3d87a838",
   "metadata": {},
   "outputs": [
    {
     "data": {
      "text/plain": [
       "array([[ 1,  2,  3,  4],\n",
       "       [13, 14, 15, 16]])"
      ]
     },
     "execution_count": 236,
     "metadata": {},
     "output_type": "execute_result"
    }
   ],
   "source": [
    "y = np.hsplit(x, (4, 6)) # View, shallow copy of the thing\n",
    "y[0]"
   ]
  },
  {
   "cell_type": "code",
   "execution_count": 233,
   "id": "f34b45a2",
   "metadata": {},
   "outputs": [],
   "source": [
    "y[0] = 1000"
   ]
  },
  {
   "cell_type": "code",
   "execution_count": 234,
   "id": "851e67be",
   "metadata": {},
   "outputs": [
    {
     "data": {
      "text/plain": [
       "[1000,\n",
       " array([[ 5,  6],\n",
       "        [17, 18]]),\n",
       " array([[ 7,  8,  9, 10, 11, 12],\n",
       "        [19, 20, 21, 22, 23, 24]])]"
      ]
     },
     "execution_count": 234,
     "metadata": {},
     "output_type": "execute_result"
    }
   ],
   "source": [
    "y"
   ]
  },
  {
   "cell_type": "code",
   "execution_count": 238,
   "id": "60381b17",
   "metadata": {},
   "outputs": [
    {
     "data": {
      "text/plain": [
       "array([[ 1,  2,  3,  4,  5,  6,  7,  8,  9, 10, 11, 12],\n",
       "       [13, 14, 15, 16, 17, 18, 19, 20, 21, 22, 23, 24]])"
      ]
     },
     "execution_count": 238,
     "metadata": {},
     "output_type": "execute_result"
    }
   ],
   "source": [
    "y = x.copy() # Deep copy (some shit idk)\n",
    "y"
   ]
  },
  {
   "cell_type": "markdown",
   "id": "76c3ab75",
   "metadata": {},
   "source": [
    "Holy shit, ChatGPT literally explained that shit to me:\n",
    "\n",
    "Shallow copies only copy the reference pointers to the original data, but not the data itself.\n",
    "\n"
   ]
  },
  {
   "cell_type": "code",
   "execution_count": 239,
   "id": "ab94289e",
   "metadata": {},
   "outputs": [
    {
     "name": "stdout",
     "output_type": "stream",
     "text": [
      "[1, ['a', 3], 4]\n",
      "[1, ['a', 3], 4]\n",
      "[1, [2, 3], 4]\n"
     ]
    }
   ],
   "source": [
    "import copy\n",
    "\n",
    "# Original list\n",
    "original_list = [1, [2, 3], 4]\n",
    "\n",
    "# Shallow copy\n",
    "shallow_copy = copy.copy(original_list)\n",
    "\n",
    "# Deep copy\n",
    "deep_copy = copy.deepcopy(original_list)\n",
    "\n",
    "# Modify the nested list in the original list\n",
    "original_list[1][0] = 'a'\n",
    "\n",
    "# Verify changes\n",
    "print(original_list)  # Output: [1, ['a', 3], 4]\n",
    "print(shallow_copy)   # Output: [1, ['a', 3], 4]\n",
    "print(deep_copy)      # Output: [1, [2, 3], 4]\n"
   ]
  },
  {
   "cell_type": "markdown",
   "id": "9535c168",
   "metadata": {},
   "source": [
    "### Chat GPT explanation to methods vs. standalone functions:\n",
    "The difference between these two types of functions is that a method is associated with a specific object and operates on the data contained in that object, while a standalone function can operate on any object or data that is passed to it.\n",
    "\n",
    "\n",
    "* Methods: Object specific\n",
    "* Functions: work on anything\n",
    "\n",
    "\n",
    "For example, consider the built-in function len(), which is a standalone function. It can operate on any object that has a length, such as a list or a string. You call it using the syntax len(object).\n",
    "\n",
    "On the other hand, consider the string method upper(), which is a method of the string object. It operates on the data contained in the string object and returns a modified string. You call it using the syntax string.upper()."
   ]
  },
  {
   "cell_type": "code",
   "execution_count": 240,
   "id": "a621244b",
   "metadata": {},
   "outputs": [
    {
     "name": "stdout",
     "output_type": "stream",
     "text": [
      "5\n",
      "[1, 2, 3, 4, 5, 6]\n"
     ]
    }
   ],
   "source": [
    "my_list = [1, 2, 3, 4, 5]\n",
    "\n",
    "# Call the len() function on my_list\n",
    "length = len(my_list)\n",
    "\n",
    "# Call the append() method on my_list\n",
    "my_list.append(6)\n",
    "\n",
    "print(length)   # Output: 5\n",
    "print(my_list)  # Output: [1, 2, 3, 4, 5, 6]\n"
   ]
  },
  {
   "cell_type": "markdown",
   "id": "bde45ebd",
   "metadata": {},
   "source": [
    "### Regular Ops:"
   ]
  },
  {
   "cell_type": "code",
   "execution_count": 258,
   "id": "c5f51834",
   "metadata": {},
   "outputs": [
    {
     "data": {
      "text/plain": [
       "(10, 1)"
      ]
     },
     "execution_count": 258,
     "metadata": {},
     "output_type": "execute_result"
    }
   ],
   "source": [
    "x = np.random.randint(1,66,size = 10)\n",
    "y = np.array(np.random.randint(1,100,size = (10,1)))\n",
    "x = np.array(x)\n",
    "x.size\n",
    "x.ndim\n",
    "x = x[np.newaxis,:]\n",
    "\n",
    "x.ndim\n",
    "x.shape\n",
    "y.shape"
   ]
  },
  {
   "cell_type": "code",
   "execution_count": 271,
   "id": "db367ecf",
   "metadata": {},
   "outputs": [
    {
     "name": "stdout",
     "output_type": "stream",
     "text": [
      "Line * Column: Recular Vector multiplication\n",
      " [[1782 6039 3762   99 1683 3465 6138 2079 6336 5148]\n",
      " [  90  305  190    5   85  175  310  105  320  260]\n",
      " [ 918 3111 1938   51  867 1785 3162 1071 3264 2652]\n",
      " [ 306 1037  646   17  289  595 1054  357 1088  884]\n",
      " [1188 4026 2508   66 1122 2310 4092 1386 4224 3432]\n",
      " [ 900 3050 1900   50  850 1750 3100 1050 3200 2600]\n",
      " [ 522 1769 1102   29  493 1015 1798  609 1856 1508]\n",
      " [ 558 1891 1178   31  527 1085 1922  651 1984 1612]\n",
      " [1170 3965 2470   65 1105 2275 4030 1365 4160 3380]\n",
      " [1062 3599 2242   59 1003 2065 3658 1239 3776 3068]]\n",
      "Line * Line: Works as dot product\n",
      " [[1782  305 1938   17 1122 1750 1798  651 4160 3068]]\n",
      "Col * Col: Works as dot product\n",
      " [[1782]\n",
      " [ 305]\n",
      " [1938]\n",
      " [  17]\n",
      " [1122]\n",
      " [1750]\n",
      " [1798]\n",
      " [ 651]\n",
      " [4160]\n",
      " [3068]]\n"
     ]
    }
   ],
   "source": [
    "print(\"Line * Column: Recular Vector multiplication\\n\",x*y)\n",
    "\n",
    "print(\"Line * Line: Works as dot product\\n\",y.transpose() * x)\n",
    "\n",
    "print(\"Col * Col: Works as dot product\\n\",y * x.transpose())\n"
   ]
  },
  {
   "cell_type": "code",
   "execution_count": 303,
   "id": "eb7b24ef",
   "metadata": {},
   "outputs": [
    {
     "data": {
      "text/plain": [
       "[(array([18]), array([99])),\n",
       " (array([61]), array([5])),\n",
       " (array([38]), array([51])),\n",
       " (array([1]), array([17])),\n",
       " (array([17]), array([66])),\n",
       " (array([35]), array([50])),\n",
       " (array([62]), array([29])),\n",
       " (array([21]), array([31])),\n",
       " (array([64]), array([65])),\n",
       " (array([52]), array([59]))]"
      ]
     },
     "execution_count": 303,
     "metadata": {},
     "output_type": "execute_result"
    }
   ],
   "source": [
    "z = y.transpose()\n",
    "\n",
    "r = np.concatenate((x,z)).transpose()\n",
    "\n",
    "r.shape\n",
    "# Just fucking around\n",
    "list(zip(x.transpose(),y))\n"
   ]
  },
  {
   "cell_type": "markdown",
   "id": "4cec1245",
   "metadata": {},
   "source": [
    "    Operations are regular product operations:"
   ]
  },
  {
   "cell_type": "code",
   "execution_count": 310,
   "id": "66954e9b",
   "metadata": {},
   "outputs": [
    {
     "data": {
      "text/plain": [
       "array([[117,  66,  89,  18,  83,  85,  91,  52, 129, 111]])"
      ]
     },
     "execution_count": 310,
     "metadata": {},
     "output_type": "execute_result"
    }
   ],
   "source": [
    "x + z"
   ]
  },
  {
   "cell_type": "code",
   "execution_count": 311,
   "id": "d1461bef",
   "metadata": {},
   "outputs": [
    {
     "data": {
      "text/plain": [
       "array([[ 81, -56,  13,  16,  49,  15, -33,  10,   1,   7]])"
      ]
     },
     "execution_count": 311,
     "metadata": {},
     "output_type": "execute_result"
    }
   ],
   "source": [
    "z - x"
   ]
  },
  {
   "cell_type": "code",
   "execution_count": 312,
   "id": "8c3b9060",
   "metadata": {},
   "outputs": [
    {
     "data": {
      "text/plain": [
       "array([[ 5.5       ,  0.08196721,  1.34210526, 17.        ,  3.88235294,\n",
       "         1.42857143,  0.46774194,  1.47619048,  1.015625  ,  1.13461538]])"
      ]
     },
     "execution_count": 312,
     "metadata": {},
     "output_type": "execute_result"
    }
   ],
   "source": [
    "z / x"
   ]
  },
  {
   "cell_type": "code",
   "execution_count": 313,
   "id": "0a16cfa6",
   "metadata": {},
   "outputs": [
    {
     "data": {
      "text/plain": [
       "array([[1782,  305, 1938,   17, 1122, 1750, 1798,  651, 4160, 3068]])"
      ]
     },
     "execution_count": 313,
     "metadata": {},
     "output_type": "execute_result"
    }
   ],
   "source": [
    "z * x"
   ]
  },
  {
   "cell_type": "code",
   "execution_count": null,
   "id": "93ffe6cd",
   "metadata": {},
   "outputs": [],
   "source": []
  },
  {
   "cell_type": "code",
   "execution_count": null,
   "id": "47130fc5",
   "metadata": {},
   "outputs": [],
   "source": []
  },
  {
   "cell_type": "code",
   "execution_count": null,
   "id": "d1a619ca",
   "metadata": {},
   "outputs": [],
   "source": []
  },
  {
   "cell_type": "code",
   "execution_count": null,
   "id": "8d79597b",
   "metadata": {},
   "outputs": [],
   "source": []
  },
  {
   "cell_type": "code",
   "execution_count": null,
   "id": "7c975063",
   "metadata": {},
   "outputs": [],
   "source": []
  },
  {
   "cell_type": "code",
   "execution_count": null,
   "id": "f11aea2e",
   "metadata": {},
   "outputs": [],
   "source": []
  },
  {
   "cell_type": "code",
   "execution_count": null,
   "id": "68919004",
   "metadata": {},
   "outputs": [],
   "source": []
  },
  {
   "cell_type": "code",
   "execution_count": null,
   "id": "0568d164",
   "metadata": {},
   "outputs": [],
   "source": []
  }
 ],
 "metadata": {
  "kernelspec": {
   "display_name": "Python 3 (ipykernel)",
   "language": "python",
   "name": "python3"
  },
  "language_info": {
   "codemirror_mode": {
    "name": "ipython",
    "version": 3
   },
   "file_extension": ".py",
   "mimetype": "text/x-python",
   "name": "python",
   "nbconvert_exporter": "python",
   "pygments_lexer": "ipython3",
   "version": "3.9.7"
  }
 },
 "nbformat": 4,
 "nbformat_minor": 5
}
