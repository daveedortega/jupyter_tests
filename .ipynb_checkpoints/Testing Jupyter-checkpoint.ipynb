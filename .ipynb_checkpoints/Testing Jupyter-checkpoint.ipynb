{
 "cells": [
  {
   "cell_type": "markdown",
   "id": "9ecb31fd",
   "metadata": {},
   "source": [
    "## Trying Out Jupyter Notebooks\n",
    "\n",
    "Honestly I barely remember how to use python and jupyter so let this serve as a tutorial for it. \n",
    "I'll be using [this](https://www.youtube.com/watch?v=HW29067qVWk&t=342s) tutorial for Jupyter and [this one](https://www.youtube.com/watch?v=I2wURDqiXdM) for basic python commands. \n",
    "By the end of this I hope to:\n",
    "1. Be able to fucking use jupyter\n",
    "2. Remember how to loop and shit\n",
    "3. Be ready to go to pandas to use data analysis, also using apis\n",
    "\n",
    "* **Remember** double `**` makes shit bold\n",
    "* One `*` *Italicizes*\n",
    "* `Double backtick` makes that weird text shit\n"
   ]
  },
  {
   "cell_type": "code",
   "execution_count": 90,
   "id": "9c35bdb9",
   "metadata": {},
   "outputs": [
    {
     "name": "stdout",
     "output_type": "stream",
     "text": [
      "Hello World!\n"
     ]
    }
   ],
   "source": [
    "print('Hello World!') # Remember single ticks are most common in python\n",
    "# Also shift + enter creates new cell below code"
   ]
  },
  {
   "cell_type": "code",
   "execution_count": 91,
   "id": "1d897378",
   "metadata": {},
   "outputs": [
    {
     "name": "stdout",
     "output_type": "stream",
     "text": [
      "5 5.5 I am True\n"
     ]
    }
   ],
   "source": [
    "w = 5 # Integer\n",
    "x = 5.5 # Float\n",
    "y = 'I am'# String\n",
    "z = True # Booleans require first letter to be capitalized\n",
    "\n",
    "print(w,x,y,z)\n",
    "# Option Enter creates new Line below"
   ]
  },
  {
   "cell_type": "code",
   "execution_count": 92,
   "id": "4f2201e1",
   "metadata": {},
   "outputs": [
    {
     "name": "stdout",
     "output_type": "stream",
     "text": [
      "<class 'int'> <class 'float'> <class 'str'> <class 'bool'>\n"
     ]
    }
   ],
   "source": [
    "print(type(w),type(x),type(y),type(z)) # Type function to check for type of thing"
   ]
  },
  {
   "cell_type": "code",
   "execution_count": 93,
   "id": "e399cae4",
   "metadata": {},
   "outputs": [
    {
     "data": {
      "text/plain": [
       "'Prompt number in the left tells us excecution order'"
      ]
     },
     "execution_count": 93,
     "metadata": {},
     "output_type": "execute_result"
    }
   ],
   "source": [
    "\"Prompt number in the left tells us excecution order\" # This can run bc it's like just typing it into the terminal"
   ]
  },
  {
   "cell_type": "code",
   "execution_count": 94,
   "id": "10dd2ea0",
   "metadata": {},
   "outputs": [
    {
     "name": "stdout",
     "output_type": "stream",
     "text": [
      "100.001\n"
     ]
    }
   ],
   "source": [
    "x = 100.001\n",
    "print(x) # Replaced value"
   ]
  },
  {
   "cell_type": "markdown",
   "id": "74a18007",
   "metadata": {},
   "source": [
    "### You can also run BASH command lines with !"
   ]
  },
  {
   "cell_type": "code",
   "execution_count": 95,
   "id": "1dde7824",
   "metadata": {},
   "outputs": [
    {
     "name": "stdout",
     "output_type": "stream",
     "text": [
      "/Users/dortega/Desktop/coding/python\r\n"
     ]
    }
   ],
   "source": [
    "!pwd"
   ]
  },
  {
   "cell_type": "code",
   "execution_count": 96,
   "id": "012a1387",
   "metadata": {},
   "outputs": [
    {
     "name": "stdout",
     "output_type": "stream",
     "text": [
      "\u001b[34mIGA python\u001b[m\u001b[m            \u001b[34mlearning_pandas\u001b[m\u001b[m       \u001b[34mtests\u001b[m\u001b[m\r\n",
      "Testing Jupyter.ipynb patch-licencias.py\r\n",
      "api-action-create.py  \u001b[34mtelegrambot\u001b[m\u001b[m\r\n"
     ]
    }
   ],
   "source": [
    "!ls"
   ]
  },
  {
   "cell_type": "markdown",
   "id": "63f13d4b",
   "metadata": {},
   "source": [
    "The blue ones are directories"
   ]
  },
  {
   "cell_type": "markdown",
   "id": "dad905f7",
   "metadata": {},
   "source": [
    "### We can also use jupyter specific commands called \"Magics\" \n",
    "With Percentage `%` signs"
   ]
  },
  {
   "cell_type": "code",
   "execution_count": 97,
   "id": "1077f994",
   "metadata": {},
   "outputs": [
    {
     "data": {
      "application/json": {
       "cell": {
        "!": "OSMagics",
        "HTML": "Other",
        "SVG": "Other",
        "bash": "Other",
        "capture": "ExecutionMagics",
        "debug": "ExecutionMagics",
        "file": "Other",
        "html": "DisplayMagics",
        "javascript": "DisplayMagics",
        "js": "DisplayMagics",
        "latex": "DisplayMagics",
        "markdown": "DisplayMagics",
        "perl": "Other",
        "prun": "ExecutionMagics",
        "pypy": "Other",
        "python": "Other",
        "python2": "Other",
        "python3": "Other",
        "ruby": "Other",
        "script": "ScriptMagics",
        "sh": "Other",
        "svg": "DisplayMagics",
        "sx": "OSMagics",
        "system": "OSMagics",
        "time": "ExecutionMagics",
        "timeit": "ExecutionMagics",
        "writefile": "OSMagics"
       },
       "line": {
        "alias": "OSMagics",
        "alias_magic": "BasicMagics",
        "autoawait": "AsyncMagics",
        "autocall": "AutoMagics",
        "automagic": "AutoMagics",
        "autosave": "KernelMagics",
        "bookmark": "OSMagics",
        "cat": "Other",
        "cd": "OSMagics",
        "clear": "KernelMagics",
        "colors": "BasicMagics",
        "conda": "PackagingMagics",
        "config": "ConfigMagics",
        "connect_info": "KernelMagics",
        "cp": "Other",
        "debug": "ExecutionMagics",
        "dhist": "OSMagics",
        "dirs": "OSMagics",
        "doctest_mode": "BasicMagics",
        "ed": "Other",
        "edit": "KernelMagics",
        "env": "OSMagics",
        "gui": "BasicMagics",
        "hist": "Other",
        "history": "HistoryMagics",
        "killbgscripts": "ScriptMagics",
        "ldir": "Other",
        "less": "KernelMagics",
        "lf": "Other",
        "lk": "Other",
        "ll": "Other",
        "load": "CodeMagics",
        "load_ext": "ExtensionMagics",
        "loadpy": "CodeMagics",
        "logoff": "LoggingMagics",
        "logon": "LoggingMagics",
        "logstart": "LoggingMagics",
        "logstate": "LoggingMagics",
        "logstop": "LoggingMagics",
        "ls": "Other",
        "lsmagic": "BasicMagics",
        "lx": "Other",
        "macro": "ExecutionMagics",
        "magic": "BasicMagics",
        "man": "KernelMagics",
        "matplotlib": "PylabMagics",
        "mkdir": "Other",
        "more": "KernelMagics",
        "mv": "Other",
        "notebook": "BasicMagics",
        "page": "BasicMagics",
        "pastebin": "CodeMagics",
        "pdb": "ExecutionMagics",
        "pdef": "NamespaceMagics",
        "pdoc": "NamespaceMagics",
        "pfile": "NamespaceMagics",
        "pinfo": "NamespaceMagics",
        "pinfo2": "NamespaceMagics",
        "pip": "PackagingMagics",
        "popd": "OSMagics",
        "pprint": "BasicMagics",
        "precision": "BasicMagics",
        "prun": "ExecutionMagics",
        "psearch": "NamespaceMagics",
        "psource": "NamespaceMagics",
        "pushd": "OSMagics",
        "pwd": "OSMagics",
        "pycat": "OSMagics",
        "pylab": "PylabMagics",
        "qtconsole": "KernelMagics",
        "quickref": "BasicMagics",
        "recall": "HistoryMagics",
        "rehashx": "OSMagics",
        "reload_ext": "ExtensionMagics",
        "rep": "Other",
        "rerun": "HistoryMagics",
        "reset": "NamespaceMagics",
        "reset_selective": "NamespaceMagics",
        "rm": "Other",
        "rmdir": "Other",
        "run": "ExecutionMagics",
        "save": "CodeMagics",
        "sc": "OSMagics",
        "set_env": "OSMagics",
        "store": "StoreMagics",
        "sx": "OSMagics",
        "system": "OSMagics",
        "tb": "ExecutionMagics",
        "time": "ExecutionMagics",
        "timeit": "ExecutionMagics",
        "unalias": "OSMagics",
        "unload_ext": "ExtensionMagics",
        "who": "NamespaceMagics",
        "who_ls": "NamespaceMagics",
        "whos": "NamespaceMagics",
        "xdel": "NamespaceMagics",
        "xmode": "BasicMagics"
       }
      },
      "text/plain": [
       "Available line magics:\n",
       "%alias  %alias_magic  %autoawait  %autocall  %automagic  %autosave  %bookmark  %cat  %cd  %clear  %colors  %conda  %config  %connect_info  %cp  %debug  %dhist  %dirs  %doctest_mode  %ed  %edit  %env  %gui  %hist  %history  %killbgscripts  %ldir  %less  %lf  %lk  %ll  %load  %load_ext  %loadpy  %logoff  %logon  %logstart  %logstate  %logstop  %ls  %lsmagic  %lx  %macro  %magic  %man  %matplotlib  %mkdir  %more  %mv  %notebook  %page  %pastebin  %pdb  %pdef  %pdoc  %pfile  %pinfo  %pinfo2  %pip  %popd  %pprint  %precision  %prun  %psearch  %psource  %pushd  %pwd  %pycat  %pylab  %qtconsole  %quickref  %recall  %rehashx  %reload_ext  %rep  %rerun  %reset  %reset_selective  %rm  %rmdir  %run  %save  %sc  %set_env  %store  %sx  %system  %tb  %time  %timeit  %unalias  %unload_ext  %who  %who_ls  %whos  %xdel  %xmode\n",
       "\n",
       "Available cell magics:\n",
       "%%!  %%HTML  %%SVG  %%bash  %%capture  %%debug  %%file  %%html  %%javascript  %%js  %%latex  %%markdown  %%perl  %%prun  %%pypy  %%python  %%python2  %%python3  %%ruby  %%script  %%sh  %%svg  %%sx  %%system  %%time  %%timeit  %%writefile\n",
       "\n",
       "Automagic is ON, % prefix IS NOT needed for line magics."
      ]
     },
     "execution_count": 97,
     "metadata": {},
     "output_type": "execute_result"
    }
   ],
   "source": [
    "%lsmagic # List available magics"
   ]
  },
  {
   "cell_type": "code",
   "execution_count": 98,
   "id": "5390502e",
   "metadata": {},
   "outputs": [],
   "source": [
    "%matplotlib inline"
   ]
  },
  {
   "cell_type": "code",
   "execution_count": 99,
   "id": "1e4085df",
   "metadata": {},
   "outputs": [
    {
     "name": "stdout",
     "output_type": "stream",
     "text": [
      "[0.46793229 0.02277168 0.09804168 0.56809966 0.50706831 0.3160537\n",
      " 0.77691151 0.39978163 0.44099249 0.70182388 0.32488346 0.75427243\n",
      " 0.04163313 0.88762394 0.17259932 0.06782766 0.37504925 0.33574269\n",
      " 0.51072664 0.6176966  0.85882181 0.25478297 0.23329787 0.81814887\n",
      " 0.35154711 0.77757599 0.01579145 0.54687921 0.79266005 0.05593727\n",
      " 0.38131853 0.23617922 0.72812459 0.02029272 0.50629692 0.37355095\n",
      " 0.59313519 0.17781652 0.96946822 0.62755328 0.57714927 0.55904365\n",
      " 0.9344899  0.2165541  0.50315817 0.94988528 0.01652263 0.49838997\n",
      " 0.42332624 0.50227799]\n"
     ]
    },
    {
     "data": {
      "text/plain": [
       "<function matplotlib.pyplot.show(close=None, block=None)>"
      ]
     },
     "execution_count": 99,
     "metadata": {},
     "output_type": "execute_result"
    },
    {
     "data": {
      "image/png": "[encoded data removed]",
      "text/plain": [
       "<Figure size 432x288 with 1 Axes>"
      ]
     },
     "metadata": {
      "needs_background": "light"
     },
     "output_type": "display_data"
    }
   ],
   "source": [
    "# Importing a library of commands as specifict object? type thing\n",
    "# We must always reference where the command is comming from, in this case it is these two libraries\n",
    "\n",
    "import numpy as np\n",
    "import matplotlib.pyplot as plt\n",
    "\n",
    "N = 50\n",
    "x = np.random.rand(N)\n",
    "print(x) # 50 random numbers, entre 0,1\n",
    "y = np.random.rand(N)\n",
    "colors = np.random.rand(N)\n",
    "\n",
    "area = np.pi * (15 * np.random.rand(N))**2 # Raised to the power of 2\n",
    "\n",
    "plt.scatter(x,y,s = area, c = colors,alpha = 0.5)\n",
    "plt.show\n"
   ]
  },
  {
   "cell_type": "markdown",
   "id": "aa1cfc3d",
   "metadata": {},
   "source": [
    "Somehow marcar la madre esa con %matplotlib before makes it better?\n",
    "That's what the guy says, exactly at this point!\n",
    "### Another command which allows us to use html\n",
    "Uses"
   ]
  },
  {
   "cell_type": "code",
   "execution_count": 100,
   "id": "45beaf5c",
   "metadata": {},
   "outputs": [
    {
     "data": {
      "text/html": [
       "<iframe width=\"560\" height=\"315\" src=\"https://www.youtube.com/embed/HW29067qVWk?start=1204\" title=\"YouTube video player\" frameborder=\"0\" allow=\"accelerometer; autoplay; clipboard-write; encrypted-media; gyroscope; picture-in-picture; web-share\" allowfullscreen></iframe>\n"
      ],
      "text/plain": [
       "<IPython.core.display.HTML object>"
      ]
     },
     "metadata": {},
     "output_type": "display_data"
    }
   ],
   "source": [
    "%%HTML \n",
    "<iframe width=\"560\" height=\"315\" src=\"https://www.youtube.com/embed/HW29067qVWk?start=1204\" title=\"YouTube video player\" frameborder=\"0\" allow=\"accelerometer; autoplay; clipboard-write; encrypted-media; gyroscope; picture-in-picture; web-share\" allowfullscreen></iframe>"
   ]
  },
  {
   "cell_type": "markdown",
   "id": "49594ebe",
   "metadata": {},
   "source": [
    "Yeah, just generally cool shit that these magics can do, i.e. time our code:"
   ]
  },
  {
   "cell_type": "code",
   "execution_count": 101,
   "id": "40dd99dd",
   "metadata": {},
   "outputs": [
    {
     "name": "stdout",
     "output_type": "stream",
     "text": [
      "2.21 µs ± 23.9 ns per loop (mean ± std. dev. of 7 runs, 100000 loops each)\n"
     ]
    }
   ],
   "source": [
    "%%timeit\n",
    "\n",
    "x = np.random.randint(10000000000)\n"
   ]
  },
  {
   "cell_type": "markdown",
   "id": "be23cd71",
   "metadata": {},
   "source": [
    "## Ok the jupyter tutorial is ending but also he uses pandas "
   ]
  },
  {
   "cell_type": "code",
   "execution_count": 102,
   "id": "5c8e887b",
   "metadata": {},
   "outputs": [
    {
     "name": "stdout",
     "output_type": "stream",
     "text": [
      "<class 'pandas.core.frame.DataFrame'>\n"
     ]
    },
    {
     "data": {
      "text/html": [
       "<div>\n",
       "<style scoped>\n",
       "    .dataframe tbody tr th:only-of-type {\n",
       "        vertical-align: middle;\n",
       "    }\n",
       "\n",
       "    .dataframe tbody tr th {\n",
       "        vertical-align: top;\n",
       "    }\n",
       "\n",
       "    .dataframe thead th {\n",
       "        text-align: right;\n",
       "    }\n",
       "</style>\n",
       "<table border=\"1\" class=\"dataframe\">\n",
       "  <thead>\n",
       "    <tr style=\"text-align: right;\">\n",
       "      <th></th>\n",
       "      <th>0</th>\n",
       "      <th>1</th>\n",
       "      <th>2</th>\n",
       "      <th>3</th>\n",
       "      <th>4</th>\n",
       "    </tr>\n",
       "  </thead>\n",
       "  <tbody>\n",
       "    <tr>\n",
       "      <th>0</th>\n",
       "      <td>0.049557</td>\n",
       "      <td>-0.086201</td>\n",
       "      <td>0.638138</td>\n",
       "      <td>-0.921076</td>\n",
       "      <td>0.510781</td>\n",
       "    </tr>\n",
       "    <tr>\n",
       "      <th>1</th>\n",
       "      <td>0.961537</td>\n",
       "      <td>1.155650</td>\n",
       "      <td>-0.959769</td>\n",
       "      <td>0.512966</td>\n",
       "      <td>-1.171986</td>\n",
       "    </tr>\n",
       "    <tr>\n",
       "      <th>2</th>\n",
       "      <td>-0.309438</td>\n",
       "      <td>2.123737</td>\n",
       "      <td>-1.028888</td>\n",
       "      <td>0.096642</td>\n",
       "      <td>1.778011</td>\n",
       "    </tr>\n",
       "  </tbody>\n",
       "</table>\n",
       "</div>"
      ],
      "text/plain": [
       "          0         1         2         3         4\n",
       "0  0.049557 -0.086201  0.638138 -0.921076  0.510781\n",
       "1  0.961537  1.155650 -0.959769  0.512966 -1.171986\n",
       "2 -0.309438  2.123737 -1.028888  0.096642  1.778011"
      ]
     },
     "execution_count": 102,
     "metadata": {},
     "output_type": "execute_result"
    }
   ],
   "source": [
    "import pandas as pd\n",
    "\n",
    "df = pd.DataFrame(np.random.randn(10,5)) #Rows, Columns\n",
    "# This next line is where python starts to differ heavily from R\n",
    "print(type(df))\n",
    "# The object type dataframe can have METHODS applied to itself, i.e. functions afterwards to the object\n",
    "# Here HEAD is a method to it\n",
    "df.head(3) #Selected number of rows\n"
   ]
  },
  {
   "cell_type": "markdown",
   "id": "ab1aec0e",
   "metadata": {},
   "source": [
    "Ok i mean the tutorial ends with the `File - Export` part of this, they can be exported to HTML, PDF, etc. "
   ]
  },
  {
   "cell_type": "markdown",
   "id": "3f3462da",
   "metadata": {},
   "source": [
    "## Useful shortcut \n",
    "\n",
    "#### `Esc + M` to change line to markdown from command mode\n",
    "\n",
    "#### `Esc + Y` to change line to code\n",
    "\n",
    "ok now we keep going with [this](https://www.youtube.com/watch?v=I2wURDqiXdM) Python coding thing"
   ]
  },
  {
   "cell_type": "code",
   "execution_count": 103,
   "id": "cf3a5cd6",
   "metadata": {},
   "outputs": [
    {
     "data": {
      "text/plain": [
       "list"
      ]
     },
     "execution_count": 103,
     "metadata": {},
     "output_type": "execute_result"
    }
   ],
   "source": [
    "\"\"\"\n",
    "triple double quotes can help us better space our comments\n",
    "into multiple lines\n",
    "yeah it's kinda cool actually\n",
    "\"\"\"\n",
    "\n",
    "# We can create lists with []\n",
    "\n",
    "l = [\"Hello\", \"World\"]\n",
    "type(l)\n"
   ]
  },
  {
   "cell_type": "code",
   "execution_count": 104,
   "id": "e756c0b1",
   "metadata": {},
   "outputs": [
    {
     "name": "stdout",
     "output_type": "stream",
     "text": [
      "Hello Hello Hello World\n"
     ]
    }
   ],
   "source": [
    "#List positions in python start from 0, so \n",
    "print(l[0], l[0], l[0], l[1])"
   ]
  },
  {
   "cell_type": "code",
   "execution_count": 105,
   "id": "58082579",
   "metadata": {},
   "outputs": [
    {
     "name": "stdout",
     "output_type": "stream",
     "text": [
      "['Hello', 'World', 'This is crazy', 5]\n"
     ]
    }
   ],
   "source": [
    "# Lists can be made bigger\n",
    "l = l + [\"This is crazy\", 5]\n",
    "print(l)"
   ]
  },
  {
   "cell_type": "code",
   "execution_count": 106,
   "id": "b396f54e",
   "metadata": {},
   "outputs": [
    {
     "name": "stdout",
     "output_type": "stream",
     "text": [
      "Here we are looking into two dictionaries (they can be nested) looking fot the function we want [0.7417588  0.49360496 0.0874434  0.792924   0.88268219]\n"
     ]
    },
    {
     "data": {
      "text/plain": [
       "'Sucked'"
      ]
     },
     "execution_count": 106,
     "metadata": {},
     "output_type": "execute_result"
    }
   ],
   "source": [
    "# Dictionaries are \"\"\"ASSOSIATIVE ARRAYS\"\"\", meaning values have keys associated to them, this is the principle\n",
    "# with which we call functions in python\n",
    "#i.e.\n",
    "\n",
    "print(\"Here we are looking into two dictionaries (they can be nested)\",\n",
    "      \"looking fot the function we want\", np.random.rand(5)) \n",
    "\n",
    "# We therefore create curly bracket shit\n",
    "dictest = {\"key\":\"value\", \"2k19\":\"Sucked\"}\n",
    "\n",
    "dictest[\"2k19\"]"
   ]
  },
  {
   "cell_type": "code",
   "execution_count": 107,
   "id": "a2358c43",
   "metadata": {},
   "outputs": [
    {
     "name": "stdout",
     "output_type": "stream",
     "text": [
      "{0, 1, 2, 3, 7, 8, 9}\n"
     ]
    }
   ],
   "source": [
    "# Sets are unordered arrays and deprecate (maybe) numbers\n",
    "\n",
    "s = {2,1,8,3,7,0,9,1,9,9,9}\n",
    "print(s)"
   ]
  },
  {
   "cell_type": "markdown",
   "id": "a0678840",
   "metadata": {},
   "source": [
    "### IFs and Loops"
   ]
  },
  {
   "cell_type": "code",
   "execution_count": 108,
   "id": "b304068e",
   "metadata": {},
   "outputs": [
    {
     "name": "stdout",
     "output_type": "stream",
     "text": [
      "5000\n"
     ]
    }
   ],
   "source": [
    "x = 100\n",
    "y = 50\n",
    "if x>y: #Colons are then, i.e. brackets for this in R\n",
    "    print(x*y)"
   ]
  },
  {
   "cell_type": "code",
   "execution_count": 109,
   "id": "96f11ea4",
   "metadata": {},
   "outputs": [
    {
     "name": "stdout",
     "output_type": "stream",
     "text": [
      "1 :  Hello\n",
      "2 :  World\n",
      "3 :  This is crazy\n",
      "4 :  5\n"
     ]
    }
   ],
   "source": [
    "# Can interate in lists, for THING is the temporal iteration variable which we can refer to afterwards in the loop\n",
    "i = 1\n",
    "for item in l:\n",
    "    print(i,\": \",item)\n",
    "    i = i+1"
   ]
  },
  {
   "cell_type": "code",
   "execution_count": 110,
   "id": "788c50d5",
   "metadata": {},
   "outputs": [
    {
     "name": "stdout",
     "output_type": "stream",
     "text": [
      "1\n",
      "2\n",
      "3\n",
      "4\n",
      "5\n",
      "6\n",
      "7\n"
     ]
    }
   ],
   "source": [
    "# The range(x,y) is a number of iteration in the thing, remember it runs y-x times\n",
    "for i in range(1,8):\n",
    "    print(i)"
   ]
  },
  {
   "cell_type": "code",
   "execution_count": 111,
   "id": "7d2ad996",
   "metadata": {},
   "outputs": [
    {
     "name": "stdout",
     "output_type": "stream",
     "text": [
      "101\n",
      "102\n"
     ]
    }
   ],
   "source": [
    "dummy = 100\n",
    "while dummy <102:\n",
    "    dummy += 1 # SUPER HACK to add or subtract something to the variable\n",
    "    print(dummy)"
   ]
  },
  {
   "cell_type": "markdown",
   "id": "92fdb428",
   "metadata": {},
   "source": [
    "#### Yeah, no, but this try except shit seems really powerful\n",
    "\n",
    "Just need to know the error and clam it in the except \n"
   ]
  },
  {
   "cell_type": "code",
   "execution_count": 120,
   "id": "8e9220ea",
   "metadata": {},
   "outputs": [
    {
     "name": "stdout",
     "output_type": "stream",
     "text": [
      "Nope\n"
     ]
    }
   ],
   "source": [
    "try:\n",
    "    print(x[10])\n",
    "except TypeError:\n",
    "    print(\"Nope\")"
   ]
  },
  {
   "cell_type": "markdown",
   "id": "d53971a3",
   "metadata": {},
   "source": [
    "### Defining functions\n",
    "\n",
    "STUPID GUESSING GAME"
   ]
  },
  {
   "cell_type": "code",
   "execution_count": 133,
   "id": "40d826ce",
   "metadata": {},
   "outputs": [],
   "source": [
    "def funk():\n",
    "    counter = 1\n",
    "    try:\n",
    "        a = int(input(\"Gimme a number:\")) # Inputs are always text\n",
    "    except TypeError: \n",
    "        print(\"I said a number bitch\")\n",
    "    pop = np.random.randint(1,1000)\n",
    "    while a!=pop:\n",
    "        counter +=1\n",
    "        if a>pop:\n",
    "            print(\"Lower dum dum\")\n",
    "            try:\n",
    "                a = int(input(\"Hit me again:\"))\n",
    "            except: \n",
    "                print(\"I said a number bitch\")\n",
    "                a = int(input(\"Hit me again:\"))\n",
    "        if a<pop:\n",
    "            print (\"Higher bitch\")\n",
    "            try:\n",
    "                a = int(input(\"Hit me again:\"))\n",
    "            except: \n",
    "                print(\"I said a number bitch\")\n",
    "                a = int(input(\"Hit me again:\"))\n",
    "    print(\"Finally you win! :)\")\n",
    "    print(\"It only took you\", counter, \"tries\")\n",
    "        "
   ]
  },
  {
   "cell_type": "code",
   "execution_count": 134,
   "id": "f2a4d537",
   "metadata": {},
   "outputs": [
    {
     "name": "stdout",
     "output_type": "stream",
     "text": [
      "Gimme a number:100\n",
      "Higher bitch\n",
      "Hit me again:800\n",
      "Lower dum dum\n",
      "Hit me again:500\n",
      "Higher bitch\n",
      "Hit me again:700\n",
      "Lower dum dum\n",
      "Hit me again:600\n",
      "Lower dum dum\n",
      "Hit me again:550\n",
      "Higher bitch\n",
      "Hit me again:580\n",
      "Lower dum dum\n",
      "Hit me again:560\n",
      "Higher bitch\n",
      "Hit me again:570\n",
      "Higher bitch\n",
      "Hit me again:575\n",
      "Lower dum dum\n",
      "Hit me again:573\n",
      "Lower dum dum\n",
      "Hit me again:571\n",
      "Higher bitch\n",
      "Hit me again:572\n",
      "Finally you win! :)\n",
      "It only took you 9 tries\n"
     ]
    }
   ],
   "source": [
    "funk()"
   ]
  },
  {
   "cell_type": "markdown",
   "id": "73069ff3",
   "metadata": {},
   "source": [
    "## Ok so last topic was hard but this is basically the shit w it"
   ]
  }
 ],
 "metadata": {
  "kernelspec": {
   "display_name": "Python 3 (ipykernel)",
   "language": "python",
   "name": "python3"
  },
  "language_info": {
   "codemirror_mode": {
    "name": "ipython",
    "version": 3
   },
   "file_extension": ".py",
   "mimetype": "text/x-python",
   "name": "python",
   "nbconvert_exporter": "python",
   "pygments_lexer": "ipython3",
   "version": "3.9.7"
  }
 },
 "nbformat": 4,
 "nbformat_minor": 5
}
